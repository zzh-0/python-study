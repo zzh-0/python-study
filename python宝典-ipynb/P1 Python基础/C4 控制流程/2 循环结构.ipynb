{
 "cells": [
  {
   "cell_type": "markdown",
   "id": "94b9645b",
   "metadata": {},
   "source": [
    "* TOC\n",
    "{:toc}\n",
    "\n",
    "## 第四章：控制流程 \n",
    "\n",
    "### 第二节：循环结构 \n",
    "\n",
    "Python中的循环结构允许我们执行一段代码块多次，这是编程中非常常见且强大的一个特性。Python提供了两种主要的循环结构：`for`循环和`while`循环。\n",
    "\n",
    "#### 1、 `for`循环 \n",
    "\n",
    "`for`循环用于在一个序列（如列表、元组、字符串或范围）上进行迭代，即它可以遍历序列中的每个元素，并针对每个元素执行代码块。\n",
    "\n",
    " *  语法\n"
   ]
  },
  {
   "cell_type": "code",
   "execution_count": null,
   "id": "fbc1f163",
   "metadata": {},
   "outputs": [],
   "source": [
    "for element in sequence:\n",
    "    # 执行的代码块"
   ]
  },
  {
   "cell_type": "markdown",
   "id": "feeab820",
   "metadata": {},
   "source": [
    "\n",
    " *  `sequence`是要迭代的序列。\n",
    " *  `element`是序列中的当前元素。\n",
    " *  示例\n"
   ]
  },
  {
   "cell_type": "code",
   "execution_count": null,
   "id": "1feaa627",
   "metadata": {},
   "outputs": [],
   "source": [
    "fruits = [\"apple\", \"banana\", \"cherry\"]\n",
    "for fruit in fruits:\n",
    "    print(fruit)"
   ]
  },
  {
   "cell_type": "markdown",
   "id": "a274af97",
   "metadata": {},
   "source": [
    "\n",
    "此代码将打印出列表`fruits`中的所有元素。\n",
    "\n",
    " *  `range()`函数\n",
    "\n",
    "`range()`函数生成一个数值序列，经常和`for`循环一起使用，来重复特定次数的操作。\n"
   ]
  },
  {
   "cell_type": "code",
   "execution_count": null,
   "id": "9b765b0a",
   "metadata": {},
   "outputs": [],
   "source": [
    "for i in range(5):\n",
    "    print(i)"
   ]
  },
  {
   "cell_type": "markdown",
   "id": "ce14f2d7",
   "metadata": {},
   "source": [
    "\n",
    "这将打印数字0到4。\n",
    "\n",
    "#### 2、`while`循环 \n",
    "\n",
    "`while`循环用于在满足指定条件的情况下重复执行代码块。与`for`循环不同，`while`循环需要手动更新或更改触发循环继续执行的条件，否则可能导致无限循环。\n",
    "\n",
    " *  语法\n"
   ]
  },
  {
   "cell_type": "code",
   "execution_count": null,
   "id": "8077b1a3",
   "metadata": {},
   "outputs": [],
   "source": [
    "while condition:\n",
    "    # 执行的代码块\n",
    "    # 经常需要一个操作来更改条件"
   ]
  },
  {
   "cell_type": "markdown",
   "id": "d843f294",
   "metadata": {},
   "source": [
    "\n",
    " *  `condition`是一个布尔表达式，只要其为True，循环就会继续执行。\n",
    " *  示例\n"
   ]
  },
  {
   "cell_type": "code",
   "execution_count": null,
   "id": "76a0c7ab",
   "metadata": {},
   "outputs": [],
   "source": [
    "i = 1\n",
    "while i < 6:\n",
    "    print(i)\n",
    "    i += 1"
   ]
  },
  {
   "cell_type": "markdown",
   "id": "4f4809d2",
   "metadata": {},
   "source": [
    "\n",
    "这段代码将打印数字1到5。当`i`增加到6时，条件不再为真，循环结束。\n",
    "\n",
    "#### 3、循环控制语句 \n",
    "\n",
    " *  `break`: 用于提前退出循环。\n",
    " *  `continue`: 跳过当前循环的剩余代码并开始下一次迭代。\n",
    " *  `else`: 可以与`for`或`while`循环一起使用，当循环正常结束时（即没有通过`break`退出循环），执行`else`块。\n",
    " *  `break`示例\n"
   ]
  },
  {
   "cell_type": "code",
   "execution_count": null,
   "id": "d2aab05c",
   "metadata": {},
   "outputs": [],
   "source": [
    "for i in range(5):\n",
    "    if i == 3:\n",
    "        break\n",
    "    print(i)"
   ]
  },
  {
   "cell_type": "markdown",
   "id": "10206eaa",
   "metadata": {},
   "source": [
    "\n",
    "这将打印数字0到2，当`i`等于3时终止循环。\n",
    "\n",
    " *  `continue`示例\n"
   ]
  },
  {
   "cell_type": "code",
   "execution_count": null,
   "id": "59be9d06",
   "metadata": {},
   "outputs": [],
   "source": [
    "for i in range(5):\n",
    "    if i == 3:\n",
    "        continue\n",
    "    print(i)"
   ]
  },
  {
   "cell_type": "markdown",
   "id": "f22f2d8a",
   "metadata": {},
   "source": [
    "\n",
    "这将打印出除了3以外的数字0到4。\n",
    "\n",
    " *  `else`示例\n"
   ]
  },
  {
   "cell_type": "code",
   "execution_count": null,
   "id": "fdaa01cb",
   "metadata": {},
   "outputs": [],
   "source": [
    "i = 1\n",
    "while i < 6:\n",
    "    print(i)\n",
    "    i += 1\n",
    "else:\n",
    "    print(\"i is no longer less than 6\")"
   ]
  },
  {
   "cell_type": "markdown",
   "id": "eaaa8cb7",
   "metadata": {},
   "source": [
    "\n",
    "这个循环会打印1到5，之后打印消息\"i is no longer less than 6\"。\n",
    "\n",
    "总结：Python中的循环结构非常灵活且强大，能有效地处理需要重复操作的场景，无论是遍历数据结构中的每个元素，还是重复执行某些操作直到满足特定条件为止。正确使用循环控制语句可以使你的代码更加高效和可读。\n",
    "\n",
    "#### 4、python循环结构相关面试题 \n",
    "\n",
    "##### 面试题1 \n",
    "\n",
    "问题：编写一个Python程序，使用一个循环来找出0到100之间所有的偶数，并将这些偶数按顺序存入一个列表中。\n",
    "\n",
    "面试考题知识点：\n",
    "\n",
    " *  理解和应用`for`循环遍历一定范围的数字。\n",
    " *  使用`range`函数生成连续的整数序列。\n",
    " *  利用条件语句`if`判断数字是否为偶数。\n",
    " *  理解列表并使用列表方法`append`将符合条件的元素添加到列表中。\n",
    "\n",
    "答案或代码：\n"
   ]
  },
  {
   "cell_type": "code",
   "execution_count": null,
   "id": "44033216",
   "metadata": {},
   "outputs": [],
   "source": [
    "even_numbers = []  # 创建一个空列表用于存放偶数\n",
    "for number in range(101):  # 遍历0到100（包括100）\n",
    "    if number % 2 == 0:  # 判断是否为偶数\n",
    "        even_numbers.append(number)  # 将偶数添加到列表中\n",
    "\n",
    "print(even_numbers)  # 输出偶数列表"
   ]
  },
  {
   "cell_type": "markdown",
   "id": "6c79f9cf",
   "metadata": {},
   "source": [
    "\n",
    "答案或代码解析：  \n",
    "首先，使用`range(101)`生成从0到100的整数序列，因为`range`函数生成的序列不包括结束值，所以要设置为101以包含数字100。\n",
    "\n",
    "接着，`for`循环遍历这个序列中的每个数字。在循环体内，使用`if`语句检查当前数字是否能被2整除（即`number % 2 == 0`），以此来判断它是否为偶数。如果是偶数，则使用`append`方法将其加入之前创建的空列表`even_numbers`中。\n",
    "\n",
    "循环结束后，所有0到100之间的偶数都将被添加到`even_numbers`列表中，并通过`print()`函数打印这个列表，输出所有找到的偶数。\n",
    "\n",
    "这道题目不仅检验了面试者对循环、条件判断和列表操作的掌握，而且通过实际操作检测了面试者用Python简洁高效解决问题的能力。\n",
    "\n",
    "##### 面试题2 \n",
    "\n",
    "问题：编写一个Python程序，实现一个函数，该函数接受两个参数：一个正整数`n`和一个列表。该函数应使用循环结构来返回一个新列表，其中包含原列表中每`n`个元素的平均值。如果列表长度不是`n`的倍数，最后一个元素应是剩余元素的平均值。\n",
    "\n",
    "面试考题知识点：\n",
    "\n",
    " *  使用`while`或`for`循环遍历列表。\n",
    " *  理解列表分片和索引。\n",
    " *  计算列表分片的平均值。\n",
    " *  动态构造新列表以存储结果。\n",
    "\n",
    "答案或代码：\n"
   ]
  },
  {
   "cell_type": "code",
   "execution_count": null,
   "id": "e0c99ddc",
   "metadata": {},
   "outputs": [],
   "source": [
    "def average_every_n_elements(n, input_list):\n",
    "    averages = []  # 创建新列表用于存储平均值\n",
    "    i = 0  # 初始索引\n",
    "    # 循环终止条件为索引超出列表长度\n",
    "    while i < len(input_list):\n",
    "        # 分片获取当前片段，注意不要超过列表末尾\n",
    "        slice = input_list[i:i+n]\n",
    "        # 计算分片平均值并加入结果列表\n",
    "        avg = sum(slice) / len(slice)\n",
    "        averages.append(avg)\n",
    "        # 更新索引到下一个片段的起始位置\n",
    "        i += n\n",
    "    return averages\n",
    "\n",
    "# 示例使用\n",
    "input_list = [1, 2, 3, 4, 5, 6, 7]\n",
    "n = 3\n",
    "print(average_every_n_elements(n, input_list))"
   ]
  },
  {
   "cell_type": "markdown",
   "id": "0cd6470b",
   "metadata": {},
   "source": [
    "\n",
    "答案或代码解析：  \n",
    "首先，函数通过参数接收一个正整数`n`和一个列表`input_list`。新列表`averages`用于存放计算得到的平均值。\n",
    "\n",
    "在函数体中，我们使用`while`循环遍历输入列表。循环开始前设置初始索引`i`为0，循环条件是`i`小于输入列表的长度。\n",
    "\n",
    "在每次循环中，我们使用列表分片操作`input_list[i:i+n]`获取从当前索引`i`开始的`n`个元素。如果索引接近列表末尾，这个分片可能包含少于`n`个元素。\n",
    "\n",
    "使用`sum(slice) / len(slice)`计算当前分片的平均值，并将这个平均值添加到`averages`列表中。\n",
    "\n",
    "循环每次迭代后，更新索引`i`，使其增加`n`，跳到下一个分片的开始位置。\n",
    "\n",
    "循环结束后，函数返回存储了所有平均值的新列表`averages`。\n",
    "\n",
    "这道题目考验了面试者对循环、列表操作（特别是分片和索引）以及基本数学计算的理解和应用。此外，它还涉及动态列表构建和片段处理的问题，检验了编码的灵活性和创造性思维能力。\n",
    "\n",
    "##### 面试题3 \n",
    "\n",
    "问题：编写一个Python程序，实现一个函数，该函数接受一个字符串作为输入参数，并使用循环结构返回一个新字符串，新字符串中的字母顺序与原字符串中的字母顺序相反，但数字和其他非字母字符的位置保持不变。\n",
    "\n",
    "面试考题知识点：\n",
    "\n",
    " *  理解和应用字符串索引和切片。\n",
    " *  使用循环结构遍历字符串。\n",
    " *  字符判断（判断字符是否为字母）。\n",
    " *  字符串不可变性及如何有效组合字符串。\n",
    "\n",
    "答案或代码：\n"
   ]
  },
  {
   "cell_type": "code",
   "execution_count": null,
   "id": "a8cb0bb9",
   "metadata": {},
   "outputs": [],
   "source": [
    "def reverse_letters(original_str):\n",
    "    letters = [c for c in original_str if c.isalpha()]  # 提取所有字母\n",
    "    letters.reverse()  # 翻转字母顺序\n",
    "    new_str_list = []\n",
    "    letter_index = 0\n",
    "    for c in original_str:\n",
    "        if c.isalpha():  # 如果当前字符是字母，则从翻转后的字母列表中取出\n",
    "            new_str_list.append(letters[letter_index])\n",
    "            letter_index += 1\n",
    "        else:  # 如果不是字母，保持原样\n",
    "            new_str_list.append(c)\n",
    "    # 将列表转换回字符串\n",
    "    return ''.join(new_str_list)\n",
    "\n",
    "# 示例使用\n",
    "original_str = \"Python3.8\"\n",
    "print(reverse_letters(original_str))"
   ]
  },
  {
   "cell_type": "markdown",
   "id": "a0c7a621",
   "metadata": {},
   "source": [
    "\n",
    "答案或代码解析：  \n",
    "首先，使用列表推导式和`isalpha()`方法提取输入字符串`original_str`中的所有字母，并将这些字母存储在列表`letters`中。然后，使用`reverse()`方法翻转`letters`列表中的字母顺序。\n",
    "\n",
    "接下来，初始化一个空列表`new_str_list`用于构建新字符串，并设置一个变量`letter_index`用于追踪`letters`列表中当前字母的位置。\n",
    "\n",
    "通过`for`循环遍历原始字符串`original_str`中的每个字符。在循环体内，使用`isalpha()`方法判断当前字符是否为字母：\n",
    "\n",
    " *  如果是字母，则从`letters`列表中按`letter_index`索引取出相应的翻转字母（该字母添加到`new_str_list`列表中，并更新`letter_index`以指向下一个字母）。\n",
    " *  如果当前字符不是字母，则直接将其添加到`new_str_list`列表中，保持该字符的原始位置不变。\n",
    "\n",
    "循环结束后，使用`join()`方法将`new_str_list`列表中的元素连接成一个新字符串，并返回这个新字符串。\n",
    "\n",
    "这道题目考察了面试者对字符串操作、循环结构以及条件判断的综合应用能力，同时也考验了对列表和字符串不可变特性的理解。通过这种方式，检验了面试者处理较复杂字符串操作问题的能力。\n",
    "\n",
    "##### 面试题4 \n",
    "\n",
    "问题：编写一个Python函数，使用`while`循环和`for`循环，找出0-100之间能被3, 5同时整除的数，并且一旦找到第一个能被7整除的数就立刻停止搜索。\n",
    "\n",
    "面试考题知识点：\n",
    "\n",
    " *  理解和掌握Python中的`for`循环和`while`循环。\n",
    " *  掌握使用`break`控制循环的执行。\n",
    " *  理解和使用条件语句进行判断。\n",
    "\n",
    "答案或代码：\n"
   ]
  },
  {
   "cell_type": "code",
   "execution_count": null,
   "id": "34b7d1f9",
   "metadata": {},
   "outputs": [],
   "source": [
    "def find_special_numbers():\n",
    "    number = 0\n",
    "    while True:  # 开始一个无限循环\n",
    "        for i in range(number, 101):  # for循环遍历从number到100的所有数\n",
    "            if i % 3 == 0 and i % 5 == 0:  # 如果数i能同时被3, 5整除\n",
    "                print(i)\n",
    "                if i % 7 == 0:  # 如果数i还能被7整除\n",
    "                    return  # 结束函数，跳出循环\n",
    "        number += 1  # 每次while循环结束后，number增加1\n",
    "\n",
    "# 示例使用\n",
    "find_special_numbers()"
   ]
  },
  {
   "cell_type": "markdown",
   "id": "ae2d258c",
   "metadata": {},
   "source": [
    "\n",
    "答案或代码解析：  \n",
    "在函数`find_special_numbers()`中，我们使用一个无限`while`循环来控制整个函数的执行。在`while`循环内，我们再使用一个`for`循环来遍历从`number`到`100`的所有数。\n",
    "\n",
    "在`for`循环的循环体内，使用条件语句检查数`i`是否能同时被3, 5整除。如果找到这样的数，则打印出来。然后我们再检查是否`i`同时能被7整除，如果能，就执行`return`语句结束函数，也就跳出了外部的`while`循环。\n",
    "\n",
    "当进行下一次`while`循环时，增加`number`的值，而`for`循环则从新的`number`开始遍历，以此类推，直到找到符合条件的数。\n",
    "\n",
    "这道题目考察了面试者对循环结构以及循环控制语句的理解和应用，并涉及了如何在满足特定条件时控制循环的结束。\n",
    "\n",
    "##### 面试题5 \n",
    "\n",
    "问题：编写一个Python函数，该函数接受一个整数列表作为输入，并返回一个新的列表。新列表应该包含输入列表中每个元素的累积乘积，但是，使用一个循环实现此功能，并在计算过程中遇到0时跳过这个数，继续乘下一个数。例如，`input_list = [1, 2, 3, 0, 4, 5]`，则返回的列表应为`[1, 2, 6, 6, 24, 120]`。\n",
    "\n",
    "面试考题知识点：\n",
    "\n",
    " *  理解和应用循环结构进行列表遍历和操作。\n",
    " *  掌握使用`continue`来控制循环的执行。\n",
    " *  理解列表的使用和累积乘积的计算方法。\n",
    "\n",
    "答案或代码：\n"
   ]
  },
  {
   "cell_type": "code",
   "execution_count": null,
   "id": "11ba6e84",
   "metadata": {},
   "outputs": [],
   "source": [
    "def cumulative_product(input_list):\n",
    "    result = []  # 用于存储累积乘积的新列表\n",
    "    product = 1\n",
    "    for num in input_list:\n",
    "        if num == 0:  # 遇到0时跳过\n",
    "            continue\n",
    "        product *= num  # 计算累积乘积\n",
    "        result.append(product)  # 将当前的累积乘积添加到结果列表中\n",
    "    return result\n",
    "\n",
    "# 示例使用\n",
    "input_list = [1, 2, 0, 3, 0, 4, 5]\n",
    "print(cumulative_product(input_list))"
   ]
  },
  {
   "cell_type": "markdown",
   "id": "63ad6db0",
   "metadata": {},
   "source": [
    "\n",
    "答案或代码解析：  \n",
    "函数`cumulative_product(input_list)`通过一个`for`循环遍历输入的整数列表`input_list`。在循环体内，首先判断当前元素是否为0，如果是，则执行`continue`语句跳过当前循环的其余操作，移动到下一个元素。\n",
    "\n",
    "如果当前元素不为0，则计算到目前为止所有非零元素的累积乘积，使用一个变量`product`来保存这个累积乘积值。在每次循环中，将当前元素乘以`product`并更新`product`的值，然后将`product`的新值添加到结果列表`result`中。\n",
    "\n",
    "这道题目考察了面试者对于循环结构的掌握、对特殊情况（如列表中存在0）的处理能力，以及对于列表操作和累积计算的理解。通过这种方式，检验了面试者解决实际问题的能力及其编码实践。\n",
    "\n",
    "##### 面试题6 \n",
    "\n",
    "问题：编写一个Python函数以实现斐波那契数列的生成器，该生成器能根据用户输入的数n，生成斐波那契数列中的前n个数。但是，如果在数列生成过程中遇到第一个大于100的数，则停止生成并退回所有已生成的数，不管n的值如何。\n",
    "\n",
    "面试考题知识点：\n",
    "\n",
    " *  理解和应用Python的`for`循环和`while`循环。\n",
    " *  熟悉斐波那契数列的计算方式。\n",
    " *  掌握`yield`关键字，了解生成器的使用。\n",
    " *  掌握使用`break`控制循环的执行。\n",
    "\n",
    "答案或代码：\n"
   ]
  },
  {
   "cell_type": "code",
   "execution_count": null,
   "id": "5b06a54c",
   "metadata": {},
   "outputs": [],
   "source": [
    "def fibonacci_generator(n):\n",
    "    a, b = 0, 1\n",
    "    count = 0\n",
    "    while count < n:  # 进行循环直到生成了n个数\n",
    "        if a > 100:  # 如果当前数大于100，停止生成\n",
    "            break\n",
    "        yield a  # 返回当前的斐波那契数\n",
    "        a, b = b, a + b  # 计算下一个斐波那契数\n",
    "        count += 1\n",
    "\n",
    "# 示例使用\n",
    "n = 10\n",
    "print(list(fibonacci_generator(n)))"
   ]
  },
  {
   "cell_type": "markdown",
   "id": "8d708b0c",
   "metadata": {},
   "source": [
    "\n",
    "答案或代码解析：  \n",
    "函数`fibonacci_generator(n)`定义了一个生成器，用来产生斐波那契数列中的前n个数。该函数首先将初始的两个斐波那契数设定为0和1，然后使用一个`while`循环来持续生成后续的斐波那契数，直到生成了用户请求的n个数。\n",
    "\n",
    "在生成过程中，使用`yield`关键字来返回当前的斐波那契数，这使得函数暂停执行并返回当前值，等待下一次迭代。如果在生成过程中遇到一个大于100的数，则使用`break`语句退出循环，停止生成。由于使用了`yield`，这个函数实际上是一个生成器，能够逐个生成斐波那契数，而不是一次性返回整个数列。\n",
    "\n",
    "这道面试题不仅考察了面试者对循环结构、条件语句的掌握，也考查了对生成器和`yield`关键字的理解。此外，正确处理斐波那契数列的生成逻辑以及控制条件，展示了面试者解决问题的能力。\n",
    "\n",
    "##### 面试题7 \n",
    "\n",
    "问题：编写一个Python函数，该函数接收一个字符串作为参数，并返回一个字典。这个字典应包含每个字符出现的次数。但是，如果在统计过程中遇到空格(’ ')，不仅需要跳过不计算，而且需要立即停止统计剩余的字符，并返回当前已统计的结果。\n",
    "\n",
    "面试考题知识点：\n",
    "\n",
    " *  理解和应用Python的循环控制结构（特别是`for`循环和`break`语句）。\n",
    " *  掌握字符串和字典的操作。\n",
    " *  理解如何基于条件判断（遇到空格时的处理）控制循环的流程。\n",
    "\n",
    "答案或代码：\n"
   ]
  },
  {
   "cell_type": "code",
   "execution_count": null,
   "id": "94b9db2f",
   "metadata": {},
   "outputs": [],
   "source": [
    "def count_characters_until_space(s):\n",
    "    char_count = {}  # 初始化一个空字典来存储字符计数\n",
    "    for char in s:\n",
    "        if char == ' ':  # 遇到空格时立即停止循环\n",
    "            break\n",
    "        if char not in char_count:  # 如果字符不在字典中，则添加\n",
    "            char_count[char] = 1\n",
    "        else:\n",
    "            char_count[char] += 1  # 如果字符已存在，则计数加1\n",
    "    return char_count\n",
    "\n",
    "# 示例使用\n",
    "test_str = \"hello world\"\n",
    "print(count_characters_until_space(test_str))"
   ]
  },
  {
   "cell_type": "markdown",
   "id": "ae08d4b4",
   "metadata": {},
   "source": [
    "\n",
    "答案或代码解析：  \n",
    "函数`count_characters_until_space(s)`遍历输入字符串`s`中的每个字符，并统计每个字符出现的次数。在进行字符遍历时使用了`for`循环，每遍历到一个字符就对其出现次数进行计数，并将结果存储在字典`char_count`中。\n",
    "\n",
    "当遇到空格字符时，通过`if char == ' ':`语句进行判断，并使用`break`语句立即跳出循环，停止之后所有字符的统计。这样做实现了题目要求的“遇到空格立即停止统计”的功能。\n",
    "\n",
    "这道题目不仅考查了面试者对Python基本数据结构（字符串和字典）的操作能力，也考查了对循环控制语句（特别是`break`）的应用能力，以及在特定条件下如何优雅地中断程序执行的能力。\n",
    "\n",
    "##### 面试题8 \n",
    "\n",
    "问题：设计一个Python函数，它可以接收一个整数列表作为输入参数，找出并返回列表中出现次数超过列表长度一半的元素，如果没有这样的元素，则返回`None`。面试题需要考虑效率问题，尽量只遍历列表一次，并且不使用额外的空间来存储计数信息。提示：尝试使用摩尔投票算法。\n",
    "\n",
    "面试考题知识点：\n",
    "\n",
    " *  理解和应用循环结构进行列表遍历。\n",
    " *  掌握条件判断语句。\n",
    " *  理解摩尔投票算法的原理和应用。\n",
    " *  熟悉空间复杂度和算法效率的问题。\n",
    "\n",
    "答案或代码：\n"
   ]
  },
  {
   "cell_type": "code",
   "execution_count": null,
   "id": "e981d880",
   "metadata": {},
   "outputs": [],
   "source": [
    "def find_majority_element(nums):\n",
    "    candidate = None\n",
    "    count = 0\n",
    "    for num in nums:\n",
    "        if count == 0:\n",
    "            candidate = num\n",
    "            count = 1\n",
    "        elif candidate == num:\n",
    "            count += 1\n",
    "        else:\n",
    "            count -= 1\n",
    "    \n",
    "    # 验证候选是否确实是多数元素\n",
    "    if nums.count(candidate) > len(nums) // 2:\n",
    "        return candidate\n",
    "    else:\n",
    "        return None\n",
    "\n",
    "# 示例使用\n",
    "test_list = [3, 3, 4, 2, 4, 4, 2, 4, 4]\n",
    "print(find_majority_element(test_list))"
   ]
  },
  {
   "cell_type": "markdown",
   "id": "57936fb3",
   "metadata": {},
   "source": [
    "\n",
    "答案或代码解析：  \n",
    "这个函数`find_majority_element(nums)`使用摩尔投票算法来寻找出现次数超过列表长度一半的元素。算法的基本思路是维护一个候选元素`candidate`和一个计数器`count`。遍历列表过程中，如果计数器为0，则将当前元素作为候选元素，并将计数器设为1。如果遇到与候选元素相同的元素，则计数器加1；如果遇到一个不同的，则计数器减1。由于多数元素的数量超过列表长度的一半，因此遍历一遍后，候选元素就是我们要找的多数元素。\n",
    "\n",
    "但是，由于上述过程可能会选出一个并非真正的多数元素（尤其在有多个相同数量但不足以超过半数的元素时），所以在得到一个候选元素后，需要重新遍历数组来验证这个候选元素是否确实是多数元素。这一步是必要的，确保函数的正确性。\n",
    "\n",
    "这个面试题考察了面试者对于高效算法设计的理解，特别是在空间复杂度要求高（不使用额外空间）的情况下，如何巧妙地利用算法特性（摩尔投票算法）来实现要求的功能。此外，也考察了对问题细节的关注和应对（最后的验证步骤）。\n",
    "\n",
    "##### 面试题9 \n",
    "\n",
    "问题：编写一个Python函数，该函数接受一个正整数列表作为输入，并返回这个列表中所有元素的最大公约数(GCD)。要求只遍历输入列表一次，并且不使用Python库中的任何现成的GCD函数。\n",
    "\n",
    "面试考题知识点：\n",
    "\n",
    " *  理解循环结构（如`for`循环）来遍历列表。\n",
    " *  掌握计算两个数最大公约数的算法（Euclid算法）。\n",
    " *  能够将Euclid算法扩展应用到一组数的最大公约数计算。\n",
    " *  理解递归和迭代的应用。\n",
    "\n",
    "答案或代码：\n"
   ]
  },
  {
   "cell_type": "code",
   "execution_count": null,
   "id": "0c56c7fa",
   "metadata": {},
   "outputs": [],
   "source": [
    "def gcd(a, b):\n",
    "    \"\"\"计算两个数的最大公约数 using Euclid's algorithm.\"\"\"\n",
    "    while b:\n",
    "        a, b = b, a % b\n",
    "    return a\n",
    "\n",
    "def find_gcd_list(numbers):\n",
    "    \"\"\"找到列表中所有数的最大公约数。\"\"\"\n",
    "    list_gcd = numbers[0]  # 以列表中的第一个数作为初始的GCD\n",
    "    for number in numbers[1:]:\n",
    "        list_gcd = gcd(list_gcd, number)  # 计算当前的GCD与列表中下一个元素的GCD\n",
    "        if list_gcd == 1:  # 如果最大公约数为1，直接返回，因为不可能有比1更小的正公约数了\n",
    "            return 1\n",
    "    return list_gcd\n",
    "\n",
    "# 示例使用\n",
    "test_list = [44, 88, 64, 128]\n",
    "print(find_gcd_list(test_list))"
   ]
  },
  {
   "cell_type": "markdown",
   "id": "abe73d79",
   "metadata": {},
   "source": [
    "\n",
    "答案或代码解析：  \n",
    "此函数首先定义了一个计算两个数最大公约数的辅助函数`gcd`，使用了Euclid的算法。Euclid算法基于这样一个事实：两个整数的最大公约数与这两个整数的差的最大公约数相同。因此，通过连续替换较大的数与较小数的差，最终可以找到两个数的最大公约数。\n",
    "\n",
    "主函数`find_gcd_list(numbers)`使用`gcd`函数作为工具，通过迭代计算列表中所有数的最大公约数。程序假设列表中的第一个元素是当前的最大公约数，然后遍历列表中的其余元素，逐个计算与当前最大公约数的最大公约数。如果在任何时候计算的最大公约数变为1，则程序立即返回1，因为这意味着列表中的所有数是互素的，也就是说没有大于1的公约数。\n",
    "\n",
    "这个面试题考察了面试者对算法的理解和应用能力，特别是如何将基本算法（Euclid算法）扩展到更复杂的场景（计算列表中所有元素的最大公约数），以及如何高效地处理问题，通过提前终止循环以优化性能。\n",
    "\n",
    "##### 面试题10 \n",
    "\n",
    "问题：编写一个Python函数，该函数将接收一个整数列表和一个目标值作为输入，返回一个布尔值，指示列表中是否存在一对数，其和等于目标值。该函数必须在不使用额外空间的情况下，尽量仅遍历列表一次。\n",
    "\n",
    "面试考题知识点：\n",
    "\n",
    " *  理解和应用循环结构（特别是`for`循环）和条件语句。\n",
    " *  掌握如何有效地在一次遍历中处理和分析数据。\n",
    " *  理解空间复杂度的概念以及如何实现空间高效的算法。\n",
    "\n",
    "答案或代码：\n"
   ]
  },
  {
   "cell_type": "code",
   "execution_count": null,
   "id": "83aa665d",
   "metadata": {},
   "outputs": [],
   "source": [
    "def has_pair_with_sum(numbers, target):\n",
    "    seen = set()  # 使用集合来存储遍历过程中遇到的数字，集合的查找时间为O(1)\n",
    "    for number in numbers:\n",
    "        if target - number in seen:  # 如果目标值减去当前数字在之前遇到的数字中，则返回True\n",
    "            return True\n",
    "        seen.add(number)  # 将当前数字添加到已看到数字的集合中\n",
    "    return False  # 如果遍历完成没有找到符合条件的数字对，则返回False\n",
    "\n",
    "# 示例使用\n",
    "test_list = [1, 2, 4, 4]\n",
    "target = 8\n",
    "print(has_pair_with_sum(test_list, target))"
   ]
  },
  {
   "cell_type": "markdown",
   "id": "d52cd7c9",
   "metadata": {},
   "source": [
    "\n",
    "答案或代码解析：  \n",
    "此函数`has_pair_with_sum(numbers, target)`利用一个集合`seen`来存储在遍历整数列表过程中遇到的数字。该集合记录每个数字是否出现过，以支持快速的查找操作（查找时间复杂度为O(1)）。\n",
    "\n",
    "在遍历列表的每一步中，函数都会检查（`target - 当前数字`）是否已经在之前的遍历中出现过。如果是，这意味着存在一个之前遇到的数字加上当前数字等于目标值，因此函数返回`True`。如果遍历结束后还没有找到满足条件的数字对，函数返回`False`。\n",
    "\n",
    "通过以上解法，函数只需遍历列表一次且不需要额外的空间来存储大量信息（除了输入列表和目标值之外），只需要一个集合来存储已遇到的数字。这样既实现了空间高效性，也保证了算法的效率。\n",
    "\n",
    "这个面试题检验了面试者解决问题的创新能力，特别是在有限资源（例如，不使用额外空间）的约束下，如何巧妙地利用数据结构（这里是集合）来优化算法的性能。"
   ]
  }
 ],
 "metadata": {},
 "nbformat": 4,
 "nbformat_minor": 5
}
