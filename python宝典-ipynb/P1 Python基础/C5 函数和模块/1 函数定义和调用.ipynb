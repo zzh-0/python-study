{
 "cells": [
  {
   "cell_type": "markdown",
   "id": "729ecc22",
   "metadata": {},
   "source": [
    "* TOC\n",
    "{:toc}\n",
    "\n",
    "## 第五章：函数定义和调用 \n",
    "\n",
    "### 第一节：函数定义和调用以及参数和返回值 \n",
    "\n",
    "Python函数是组织代码的一种方式，它可以实现特定的功能，并且可以被重复调用。以下是对函数定义、调用、参数和返回值的详细解析：\n",
    "\n",
    "#### 1. 函数定义 \n",
    "\n",
    "函数通过关键字`def`定义，后跟函数名和圆括号中的参数列表，并以冒号结尾。新的代码行表示函数开始，并且缩进的代码块表示函数体。\n"
   ]
  },
  {
   "cell_type": "code",
   "execution_count": null,
   "id": "357da522",
   "metadata": {},
   "outputs": [],
   "source": [
    "def function_name(parameter1, parameter2):\n",
    "    \"\"\"函数文档字符串(docstring)：描述函数的作用\"\"\"\n",
    "    # 执行代码块\n",
    "    return result"
   ]
  },
  {
   "cell_type": "markdown",
   "id": "bc1dcf22",
   "metadata": {},
   "source": [
    "\n",
    " *  函数名(`function_name`)：应当反映函数所进行的操作或返回的结果。\n",
    " *  参数(`parameter1, parameter2`)：用以接收外部传递给函数的值。参数是可选的，一个函数也可以没有任何参数。\n",
    " *  函数文档字符串: 说明函数的行为和参数信息，方便理解和使用，推荐写在函数开始的地方。\n",
    " *  函数体: 实现函数功能的代码段。\n",
    " *  return语句: 返回函数的结果。如果函数不需要返回值或者没有`return`语句，函数将返回`None`。\n",
    "\n",
    "#### 2. 函数调用 \n",
    "\n",
    "函数定义之后，可通过函数名来调用并执行函数。调用时需要提供必要的参数，除非函数已经定义了默认参数。\n"
   ]
  },
  {
   "cell_type": "code",
   "execution_count": null,
   "id": "4a3583d2",
   "metadata": {},
   "outputs": [],
   "source": [
    "# 定义函数\n",
    "def greet(name):\n",
    "    \"\"\"简单问候函数\"\"\"\n",
    "    return f\"Hello, {name}!\"\n",
    "\n",
    "# 调用函数\n",
    "message = greet(\"Alice\")\n",
    "print(message) # 输出: Hello, Alice!"
   ]
  },
  {
   "cell_type": "markdown",
   "id": "3c7d290d",
   "metadata": {},
   "source": [
    "\n",
    "#### 3. 参数 \n",
    "\n",
    "参数是传递给函数的值，它们在函数内部用于完成特定的任务。函数参数的类型主要有以下几种：\n",
    "\n",
    " *  位置参数: 必须按照正确的顺序传递参数。\n",
    " *  关键字参数: 指定参数名称来传递参数，不需要按照位置顺序。\n",
    " *  默认参数: 在函数定义时，可以给参数一个默认值。在调用时，如果未提供该参数，则使用默认值。\n",
    " *  可变位置参数(`*args`): 允许函数接受任意数量的位置参数，这些参数将被打包成一个元组。\n",
    " *  可变关键字参数(`**kwargs`): 允许函数接受任意数量的关键字参数，这些参数将被打包成一个字典。\n"
   ]
  },
  {
   "cell_type": "code",
   "execution_count": null,
   "id": "c7dc2633",
   "metadata": {},
   "outputs": [],
   "source": [
    "# 参数的例子\n",
    "def student(name, age=18, *courses, **scores):\n",
    "    print(f\"Student: {name}, Age: {age}\")\n",
    "    print(\"Courses:\", courses)\n",
    "    print(\"Scores:\", scores)\n",
    "\n",
    "# 使用位置参数和关键字参数调用函数\n",
    "student(\"Bob\", 19, \"Math\", \"Physics\", Math=80, Physics=90)"
   ]
  },
  {
   "cell_type": "markdown",
   "id": "5d81d8b5",
   "metadata": {},
   "source": [
    "\n",
    "#### 4. 返回值 \n",
    "\n",
    "Python函数可以返回零个、一个或多个值。如果没有明确指定返回值，则默认返回`None`。\n",
    "\n",
    " *  没有返回值：相当于返回`None`\n",
    " *  返回一个值：直接返回那个值\n",
    " *  返回多个值：以元组的形式返回\n"
   ]
  },
  {
   "cell_type": "code",
   "execution_count": null,
   "id": "560cbcc9",
   "metadata": {},
   "outputs": [],
   "source": [
    "def no_return():\n",
    "    print(\"Nothing is returned explicitly.\")\n",
    "\n",
    "def single_return():\n",
    "    return \"Python\"\n",
    "\n",
    "def multiple_return():\n",
    "    return 1, 2, 3  # 返回一个元组\n",
    "\n",
    "result = no_return()  # None\n",
    "print(result)\n",
    "\n",
    "result = single_return()  # \"Python\"\n",
    "print(result)\n",
    "\n",
    "result = multiple_return()  # (1, 2, 3)\n",
    "print(result)"
   ]
  },
  {
   "cell_type": "markdown",
   "id": "21b4383e",
   "metadata": {},
   "source": [
    "\n",
    "在函数中，`return`语句也可以用来提前退出函数，不必执行余下的代码。当函数执行到`return`语句时，函数立即结束，并将`return`后面的表达式结果返回给调用者。\n",
    "\n",
    "#### 5.变量作用域 \n",
    "\n",
    "在Python中，变量的作用域决定了在哪个部分的代码可以访问哪些变量。\n",
    "\n",
    " *  局部变量：在函数内部定义的变量，只能在该函数的内部访问。\n",
    " *  全局变量：在函数外定义的变量，可以在程序的任何地方访问。\n"
   ]
  },
  {
   "cell_type": "code",
   "execution_count": null,
   "id": "3c14e286",
   "metadata": {},
   "outputs": [],
   "source": [
    "# 全局变量\n",
    "x = \"global x\"\n",
    "\n",
    "def test():\n",
    "    # 局部变量\n",
    "    y = \"local y\"\n",
    "    print(y)\n",
    "    print(x)\n",
    "\n",
    "test()   # 打印局部变量y和全局变量x\n",
    "print(x)  # 正确，全局变量可以在这里访问\n",
    "print(y)  # 错误，抛出异常，因为y是在函数test内定义的局部变量"
   ]
  },
  {
   "cell_type": "markdown",
   "id": "ca8df022",
   "metadata": {},
   "source": [
    "\n",
    "理解参数、返回值和作用域是编写高效的、易于维护和理解的Python程序的关键。\n",
    "\n",
    "#### 6.python有关函数定义和调用方面的面试题 \n",
    "\n",
    "##### 面试题1 \n",
    "\n",
    "面试题目：  \n",
    "请解释Python中的装饰器（decorator），并编写一个简单的装饰器示例，该装饰器记录函数执行的时间。\n",
    "\n",
    "面试考题知识点：\n",
    "\n",
    " *  装饰器的概念和作用\n",
    " *  使用装饰器增强函数功能\n",
    " *  计时操作\n",
    "\n",
    "答案或代码：\n"
   ]
  },
  {
   "cell_type": "code",
   "execution_count": null,
   "id": "26465670",
   "metadata": {},
   "outputs": [],
   "source": [
    "import time\n",
    "\n",
    "def time_decorator(func):\n",
    "    def wrapper(*args, **kwargs):\n",
    "        start_time = time.time()\n",
    "        result = func(*args, **kwargs)\n",
    "        end_time = time.time()\n",
    "        print(f\"Function {func.__name__} took {end_time - start_time} seconds to execute.\")\n",
    "        return result\n",
    "    return wrapper\n",
    "\n",
    "@time_decorator\n",
    "def example_function():\n",
    "    print(\"Executing example function.\")\n",
    "    time.sleep(2)  # 模拟耗时操作\n",
    "\n",
    "example_function()"
   ]
  },
  {
   "cell_type": "markdown",
   "id": "add369d6",
   "metadata": {},
   "source": [
    "\n",
    "答案或代码解析：  \n",
    "在这个例子中，`time_decorator`是一个装饰器，它接受一个函数`func`作为参数，并返回一个新的函数`wrapper`。`wrapper`函数执行实际被装饰的函数，并在执行前后分别获取当前时间，从而计算出`func`的执行时间。通过在`example_function`函数定义前使用`@time_decorator`语法，我们将`time_decorator`应用于`example_function`，使其在调用时自动执行装饰器逻辑。\n",
    "\n",
    "这个装饰器示例展示了如何使用装饰器来增强函数的功能，而不修改原有函数的代码。装饰器广泛用于日志记录、性能测试、事务处理、缓存等场景。\n",
    "\n",
    "##### 面试题3 \n",
    "\n",
    "面试题目：  \n",
    "请编写一个Python函数，该函数能够接受任意数量的命名关键字参数，并打印出参数名和对应的值。\n",
    "\n",
    "面试考题知识点：\n",
    "\n",
    " *  命名关键字参数\n",
    " *  可变参数\n",
    " *  函数的参数解包\n",
    "\n",
    "答案或代码：\n"
   ]
  },
  {
   "cell_type": "code",
   "execution_count": null,
   "id": "4518c646",
   "metadata": {},
   "outputs": [],
   "source": [
    "def print_named_args(**kwargs):\n",
    "    for name, value in kwargs.items():\n",
    "        print(f\"{name}: {value}\")\n",
    "\n",
    "# 调用函数示例\n",
    "print_named_args(first_name=\"John\", last_name=\"Doe\")"
   ]
  },
  {
   "cell_type": "markdown",
   "id": "d646178a",
   "metadata": {},
   "source": [
    "\n",
    "答案或代码解析：  \n",
    "在这个例子中，`print_named_args`函数使用`**kwargs`语法定义，这允许它接受任意数量的命名关键字参数。函数体内部，我们遍历`kwargs`字典的项，这个字典包含了所有传递给函数的命名关键字参数。然后，我们打印出每个参数的名字和对应的值。\n",
    "\n",
    "这种方法的优点是可以接受不确定数量的参数，使得函数调用非常灵活。命名关键字参数常用于需要传递配置选项或属性等场景。\n",
    "\n",
    "##### 面试题4 \n",
    "\n",
    "面试题目：  \n",
    "在Python中，什么是lambda函数？请提供一个使用lambda函数进行排序的示例。\n",
    "\n",
    "面试考题知识点：\n",
    "\n",
    " *  lambda函数的定义和使用\n",
    " *  列表排序\n",
    " *  使用自定义函数进行排序\n",
    "\n",
    "答案或代码：\n"
   ]
  },
  {
   "cell_type": "code",
   "execution_count": null,
   "id": "a5032e13",
   "metadata": {},
   "outputs": [],
   "source": [
    "# 定义一个包含元组的列表\n",
    "data = [(\"apple\", 3), (\"banana\", 2), (\"cherry\", 1)]\n",
    "\n",
    "# 使用lambda函数进行排序\n",
    "sorted_data = sorted(data, key=lambda x: x[1])\n",
    "\n",
    "print(sorted_data)  # 输出: [('cherry', 1), ('banana', 2), ('apple', 3)]"
   ]
  },
  {
   "cell_type": "markdown",
   "id": "01d85b47",
   "metadata": {},
   "source": [
    "\n",
    "答案或代码解析：  \n",
    "在这个例子中，我们首先定义了一个包含元组的列表。然后，我们调用内置的`sorted`函数对列表进行排序，并传递一个lambda函数作为`key`参数。这个lambda函数接受一个元素（在这里是一个元组），并返回一个用于排序的值（在这里是元组的第二个元素，即数字）。因此，`sorted`函数会根据元组的第二个元素进行排序。\n",
    "\n",
    "lambda函数是Python中一种简洁的创建小型匿名函数的方式。它们通常在需要一个小函数作为参数的地方使用，例如在这个例子中的`sorted`函数。lambda函数的主要限制是它们只能包含一个表达式，不能包含复杂的逻辑，但在许多情况下，这是足够的。\n",
    "\n",
    "##### 面试题5 \n",
    "\n",
    "面试题目：  \n",
    "请解释Python中的闭包，并提供一个闭包的实例。\n",
    "\n",
    "面试考题知识点：\n",
    "\n",
    " *  闭包的概念\n",
    " *  闭包的使用和优点\n",
    "\n",
    "答案或代码：\n"
   ]
  },
  {
   "cell_type": "code",
   "execution_count": null,
   "id": "c151eeef",
   "metadata": {},
   "outputs": [],
   "source": [
    "def outer_function(x):\n",
    "    def inner_function(y):\n",
    "        return x + y\n",
    "    return inner_function\n",
    "\n",
    "closure = outer_function(10)\n",
    "print(closure(5))  # 输出: 15"
   ]
  },
  {
   "cell_type": "markdown",
   "id": "300b3294",
   "metadata": {},
   "source": [
    "\n",
    "答案或代码解析：  \n",
    "在这个例子中，`outer_function`是一个外部函数，它接受一个参数`x`，并定义了一个内部函数`inner_function`。内部函数`inner_function`可以访问外部函数`outer_function`的参数和变量。当我们调用`outer_function`时，它返回`inner_function`，这就形成了一个闭包。\n",
    "\n",
    "闭包是一种特殊的函数，它记住了当它被创建时在其所在的作用域中的变量。在上述示例中，`inner_function`记住了`outer_function`的参数`x`的值。即使在`outer_function`执行完毕后，`inner_function`依然能够访问到`x`的值。这是因为闭包封装了外部函数的局部变量，并使得这些变量在外部函数执行完毕后仍然可访问。\n",
    "\n",
    "当`outer_function(10)`被调用时，它返回了`inner_function`的引用，此时`inner_function`闭包了（或者说记住了）变量`x`的值为10。因此，当我们通过变量`closure`调用`inner_function(5)`时，它能够使用记住的`x`的值（即10），并将其与传入的参数`y`（即5）相加，得到结果15。\n",
    "\n",
    "闭包的优点包括：\n",
    "\n",
    " *  提高代码的模块化和抽象程度。\n",
    " *  允许隐藏状态（即闭包内部变量），只通过提供的函数来操作。\n",
    " *  可以根据外部函数的参数动态地创建不同行为的函数。\n",
    "\n",
    "闭包在Python中是一个强大的概念，广泛应用于回调函数、装饰器等场景。\n",
    "\n",
    "##### 面试题6 \n",
    "\n",
    "面试题目：  \n",
    "如何在Python中使用`*args`和`**kwargs`？请编写一个函数，它能同时接受任意数量的位置参数和命名关键字参数，并打印出所有参数的值。\n",
    "\n",
    "面试考题知识点：\n",
    "\n",
    " *  `*args`的用法\n",
    " *  `**kwargs`的用法\n",
    " *  函数参数的不定长列表\n",
    "\n",
    "答案或代码：\n"
   ]
  },
  {
   "cell_type": "code",
   "execution_count": null,
   "id": "5b4b079e",
   "metadata": {},
   "outputs": [],
   "source": [
    "def print_args_and_kwargs(*args, **kwargs):\n",
    "    if args:\n",
    "        print(\"Positional arguments are:\", args)\n",
    "    if kwargs:\n",
    "        print(\"Keyword arguments are:\", kwargs)\n",
    "\n",
    "# 调用函数示例\n",
    "print_args_and_kwargs(1, 2, 3, first_name=\"John\", last_name=\"Doe\")"
   ]
  },
  {
   "cell_type": "markdown",
   "id": "0d6f7079",
   "metadata": {},
   "source": [
    "\n",
    "答案或代码解析：  \n",
    "在这个例子中，`print_args_and_kwargs`函数使用了`*args`来接受任意数量的位置参数，并使用了`**kwargs`来接受任意数量的命名关键字参数。函数内部，我们分别检查`args`和`kwargs`是否有内容，如果有，就分别打印出位置参数和关键字参数的值。\n",
    "\n",
    "`*args`收集额外的位置参数并将其存储在一个元组中。`**kwargs`收集所有额外的关键字参数并将它们存储在一个字典中。这使得函数能够处理不确定数量的参数，增加了函数的灵活性和可用性。\n",
    "\n",
    "##### 面试题7 \n",
    "\n",
    "面试题目：  \n",
    "请解释Python中的类型注解（type hints）并提供一个使用类型注解的函数示例。\n",
    "\n",
    "面试考题知识点：\n",
    "\n",
    " *  类型注解的概念\n",
    " *  类型注解在函数中的应用\n",
    " *  类型检查的好处\n",
    "\n",
    "答案或代码：\n"
   ]
  },
  {
   "cell_type": "code",
   "execution_count": null,
   "id": "a1c6d5ac",
   "metadata": {},
   "outputs": [],
   "source": [
    "def add_numbers(a: int, b: int) -> int:\n",
    "    return a + b\n",
    "\n",
    "# 调用函数示例\n",
    "result = add_numbers(5, 10)\n",
    "print(result)  # 输出: 15"
   ]
  },
  {
   "cell_type": "markdown",
   "id": "49a6d590",
   "metadata": {},
   "source": [
    "\n",
    "答案或代码解析：  \n",
    "在这个例子中，`add_numbers`函数使用了类型注解来指定参数`a`和`b`应该是`int`类型，同时指定返回值也是`int`类型。类型注解通过在参数名后添加冒号`:`和类型名称来实现，返回值类型则通过在函数声明的末尾使用`->`符号后跟类型名称来指定。\n",
    "\n",
    "类型注解是Python 3.5及以后版本引入的特性，它允许程序员为函数参数和返回值指定预期的数据类型。类型注解本身不会对Python代码的运行时行为产生任何影响，也就是说，它们不会导致自动的类型检查或强制类型转换。但是，类型注解可以被第三方工具和IDE用来进行类型检查，从而帮助开发者发现潜在的错误。此外，类型注解也可以作为代码文档的一部分，增加代码的可读性和可维护性。\n",
    "\n",
    "##### 面试题8 \n",
    "\n",
    "面试题目：  \n",
    "在Python中，什么是递归函数？请编写一个使用递归计算阶乘的函数。\n",
    "\n",
    "面试考题知识点：\n",
    "\n",
    " *  递归函数的概念\n",
    " *  递归函数的使用\n",
    " *  阶乘的计算\n",
    "\n",
    "答案或代码：\n"
   ]
  },
  {
   "cell_type": "code",
   "execution_count": null,
   "id": "f00e3f4f",
   "metadata": {},
   "outputs": [],
   "source": [
    "def factorial(n: int) -> int:\n",
    "    if n == 0:\n",
    "        return 1\n",
    "    else:\n",
    "        return n * factorial(n - 1)\n",
    "\n",
    "# 调用函数示例\n",
    "print(factorial(5))  # 输出: 120"
   ]
  },
  {
   "cell_type": "markdown",
   "id": "c54cd3eb",
   "metadata": {},
   "source": [
    "\n",
    "答案或代码解析：  \n",
    "在这个例子中，`factorial`函数使用了递归来计算阶乘。阶乘函数的定义是：n的阶乘等于n乘以(n-1)的阶乘，直到n为0时，0的阶乘定义为1。这个定义直接转化为了递归函数的形式。在`factorial`函数中，首先检查基准情况，即当`n`等于0时，按照阶乘的定义，返回1。如果`n`不为0，函数调用自身（递归调用），参数为`n-1`，并将返回值与`n`相乘。\n",
    "\n",
    "递归函数是自己调用自己的函数。在使用递归时，非常重要的一点是定义一个明确的终止条件（基准情况），否则函数将会无限递归下去，最终导致栈溢出错误。在这个阶乘函数的示例中，终止条件是当`n`等于0时。\n",
    "\n",
    "递归是一种强大的编程技术，允许简洁地解决一些看似复杂的问题，尤其是那些可以分解为相同问题的较小子问题的情况。然而，递归也可能导致较高的计算成本和内存使用，特别是当递归深度很大时。因此，在实际应用中，应当仔细权衡递归和迭代解决方案的利弊。\n",
    "\n",
    "##### 面试题9 \n",
    "\n",
    "面试题目：  \n",
    "在Python中，如何使用默认参数？请编写一个使用默认参数的函数。\n",
    "\n",
    "面试考题知识点：\n",
    "\n",
    " *  默认参数的概念和使用\n",
    " *  默认参数在函数定义中的位置\n",
    "\n",
    "答案或代码：\n"
   ]
  },
  {
   "cell_type": "code",
   "execution_count": null,
   "id": "055922fa",
   "metadata": {},
   "outputs": [],
   "source": [
    "def greet(name, greeting=\"Hello\"):\n",
    "    print(f\"{greeting}, {name}!\")\n",
    "\n",
    "# 调用函数示例\n",
    "greet(\"Alice\")  # 输出: Hello, Alice!\n",
    "greet(\"Bob\", \"Good morning\")  # 输出: Good morning, Bob!"
   ]
  },
  {
   "cell_type": "markdown",
   "id": "a67dae7d",
   "metadata": {},
   "source": [
    "\n",
    "答案或代码解析：  \n",
    "在这个例子中，`greet`函数接受两个参数：`name`和`greeting`。其中，`greeting`是一个默认参数，如果在调用函数时没有提供`greeting`的值，那么它的值将为默认值\"Hello\"。\n",
    "\n",
    "默认参数允许函数在调用时省略某些参数，而不会导致错误。如果省略了带有默认值的参数，函数将使用参数的默认值。在上述示例中，当我们只传入一个参数调用`greet`函数时（如`greet(\"Alice\")`），`greeting`参数的值将为其默认值\"Hello\"。\n",
    "\n",
    "默认参数在函数定义中的位置很重要。默认参数必须位于所有非默认（必需）参数之后。如果试图在必需参数之前或之间放置默认参数，Python将引发语法错误。\n",
    "\n",
    "默认参数可以提高函数的灵活性，使其在不同的上下文中具有不同的行为。然而，应当注意默认参数的值只在函数定义时计算一次，而不是在每次调用函数时计算。因此，如果默认参数的值是可变的（例如列表或字典），并且在函数内部修改了这个值，那么这个修改将在函数的后续调用中保持有效。这可能导致一些非预期的行为。\n",
    "\n",
    "##### 面试题10 \n",
    "\n",
    "面试题目：  \n",
    "Python中的函数可以作为其他函数的参数或返回值吗？请提供一个高阶函数（high-order function）的示例，这个函数接受一个函数作为参数，并返回一个新的函数。\n",
    "\n",
    "面试考题知识点：\n",
    "\n",
    " *  高阶函数的概念\n",
    " *  在Python中函数作为一等公民的特性\n",
    " *  函数作为参数和返回值的使用\n",
    "\n",
    "答案或代码：\n"
   ]
  },
  {
   "cell_type": "code",
   "execution_count": null,
   "id": "64cc98bd",
   "metadata": {},
   "outputs": [],
   "source": [
    "def make_multiplier(factor):\n",
    "    def multiplier(n):\n",
    "        return n * factor\n",
    "    return multiplier\n",
    "\n",
    "# 使用高阶函数创建新的函数\n",
    "double = make_multiplier(2)\n",
    "print(double(5))  # 输出: 10"
   ]
  },
  {
   "cell_type": "markdown",
   "id": "d68930a7",
   "metadata": {},
   "source": [
    "\n",
    "答案或代码解析：  \n",
    "在这个例子中，`make_multiplier`是一个高阶函数，它接受一个参数`factor`，并返回一个新的函数`multiplier`。`multiplier`函数接受一个参数`n`，并返回`n * factor`。\n",
    "\n",
    "这个例子展示了在Python中，函数可以作为一等公民，这意味着函数可以被赋值给变量，可以作为参数传递给其他函数，也可以作为其他函数的返回值。这种特性使得Python能够方便地使用高阶函数和函数式编程风格。\n",
    "\n",
    "在上述示例中，当我们调用`make_multiplier(2)`时，它返回了一个新的函数`multiplier`，而且这个新函数\"记住了\"参数`factor`的值为2。因此，当我们通过变量`double`调用`multiplier(5)`时，它能够使用记住的`factor`的值（即2），并将其与传入的参数`n`（即5）相乘，得到结果10。\n",
    "\n",
    "高阶函数在许多场景中都非常有用。例如，它们可以用于创建配置化的函数，或者在不改变原有函数的情况下增加新的功能（如日志记录，性能监控等），这是装饰器模式的一个常见应用。此外，高阶函数也是函数式编程中的一个核心概念，它允许我们以更抽象的方式处理数据和操作，有助于编写更清晰、更简洁的代码。\n",
    "\n",
    "通过使用高阶函数，我们可以将一些操作抽象成函数，然后将这些函数作为参数传递给其他函数，从而实现更加动态和灵活的编程模式。这种方式不仅可以提高代码的重用性，还可以帮助我们以更加声明式的风格来编程，关注于我们想要做什么，而不是如何去做。\n",
    "\n",
    "总之，Python中的高阶函数是一种强大的工具，它利用了函数作为一等公民的特性，为编程提供了更多的灵活性和表达力。"
   ]
  }
 ],
 "metadata": {},
 "nbformat": 4,
 "nbformat_minor": 5
}
