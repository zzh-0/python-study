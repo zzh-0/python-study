{
 "cells": [
  {
   "cell_type": "markdown",
   "id": "2c4952a1",
   "metadata": {},
   "source": [
    "* TOC\n",
    "{:toc}\n",
    "\n",
    "## 第五章：函数定义和调用 \n",
    "\n",
    "### 第三节：模块和包 \n",
    "\n",
    "在Python中，模块和包是组织代码的基本方式，它们帮助开发者将程序分解成多个维护和复用的部分。下面是对模块和包相关知识的全面详解：\n",
    "\n",
    "#### 1.模块（Modules） \n",
    "\n",
    "模块是一个包含Python定义和声明的文件。文件名就是模块名加上`.py`后缀。模块可以包含函数、类和变量的定义，也可以包含可执行的代码。\n",
    "\n",
    "模块的使用：\n",
    "\n",
    "1.  导入模块： 使用`import`语句导入模块。例如，`import math`导入`math`模块。\n",
    "2.  访问模块中的元素： 使用点（`.`）操作符。例如，`math.sqrt(4)`访问`math`模块中的`sqrt`函数。\n",
    "3.  导入模块中特定的项： 使用`from ... import ...`语句。例如，`from math import sqrt`。\n",
    "4.  导入模块中所有项： 使用`from ... import *`语句。不推荐这种做法，因为它可能导致命名冲突。\n",
    "\n",
    "#### 2.包（Packages） \n",
    "\n",
    "包是一种方式，用于将模块组织成层次化的命名空间。简单来说，包就是包含其他模块的目录。包目录下必须包含一个`__init__.py`文件，这个文件可以是空的，它的存在告诉Python该目录是一个Python包。\n",
    "\n",
    "创建包：\n",
    "\n",
    "1.  创建一个包目录。\n",
    "2.  在包目录中添加模块（`.py`文件）。\n",
    "3.  在包目录中添加`__init__.py`文件。\n",
    "\n",
    "使用包：\n",
    "\n",
    " *  使用与模块相同的`import`语句来导入包中的模块。例如，如果有一个名为`mypackage`的包，其中包含一个名为`mymodule`的模块，则可以使用`import mypackage.mymodule`来导入。\n",
    "\n",
    "#### 3.相对导入 \n",
    "\n",
    "在包内部，你可以使用相对导入，使用从当前和父包中导入模块。例如，如果模块`A`和模块`B`都在包`mypackage`中，`B`可以使用`from . import A`来导入`A`。\n",
    "\n",
    "#### 4.包的分发 \n",
    "\n",
    "如果你想要分享你的包，Python有几种方式打包和分发你的代码，最常用的是使用`setuptools`和`pip`。你可以创建一个`setup.py`文件，在其中定义包的属性，然后使用`python setup.py sdist`生成源分发包，或者使用`pip`安装和分发包。\n",
    "\n",
    "#### 5.虚拟环境 \n",
    "\n",
    "虚拟环境是Python的一个特性，它可以帮助开发者为每个项目创建独立的环境。这意味着每个项目可以有自己的依赖，不管全局安装了什么。这通过`venv`模块实现，可以使用`python -m venv myenv`创建一个名为`myenv`的虚拟环境。\n",
    "\n",
    "通过合理使用模块和包，Python开发者可以有效地组织和维护大型代码库，使得代码更加模块化、可复用和可维护。\n",
    "\n",
    "#### 6.python模块和包相关的面试题 \n",
    "\n",
    "##### 面试题1 \n",
    "\n",
    "面试题目：  \n",
    "假设你正在开发一个大型的Python项目，需要频繁地重用一组功能。如何组织你的代码以提高重用性，并简化未来的维护工作？请解释如何使用模块和包来组织这些代码，并给出一个简单的目录结构示例。\n",
    "\n",
    "面试考题知识点：\n",
    "\n",
    " *  模块和包的概念\n",
    " *  代码组织和重用\n",
    " *  Python项目的目录结构\n",
    "\n",
    "答案或代码：  \n",
    "不涉及具体代码，而是关于项目结构的设计。\n",
    "\n",
    "答案或代码解析：  \n",
    "为了提高代码的重用性并简化未来的维护工作，在大型Python项目中，我们可以通过创建模块和包来组织代码。模块允许我们将相关的函数、类和变量组合在一起，而包则帮助我们将这些模块进一步组织成层次化的命名空间。\n",
    "\n",
    "示例目录结构：\n"
   ]
  },
  {
   "cell_type": "code",
   "execution_count": null,
   "id": "296e1527",
   "metadata": {},
   "outputs": [],
   "source": [
    "my_project/\n",
    "│\n",
    "├── my_package/\n",
    "│   ├── __init__.py\n",
    "│   ├── sub_package1/\n",
    "│   │   ├── __init__.py\n",
    "│   │   ├── module1.py\n",
    "│   │   └── module2.py\n",
    "│   │\n",
    "│   └── sub_package2/\n",
    "│       ├── __init__.py\n",
    "│       ├── module3.py\n",
    "│       └── module4.py\n",
    "│\n",
    "└── main.py"
   ]
  },
  {
   "cell_type": "markdown",
   "id": "a1d9f78e",
   "metadata": {},
   "source": [
    "\n",
    "在这个示例中，`my_project`是项目的根目录。它包含一个名为`my_package`的包，这个包又包含两个子包：`sub_package1`和`sub_package2`。每个子包中包含了一些模块，例如`module1.py`、`module2.py`等。每个包和子包目录中都包含一个`__init__.py`文件，这标志着这些目录是Python的包。\n",
    "\n",
    "通过这种方式组织代码，我们可以轻松地在项目中重用这些模块和包。例如，在项目的主文件`main.py`中，我们可以使用`import`语句来导入这些包和模块中的功能，如`from my_package.sub_package1 import module1`。\n",
    "\n",
    "这种组织方式不仅提高了代码的重用性，还使得项目结构清晰，便于维护和扩展。开发者可以快速定位和更新特定的功能，也可以轻松地向项目中添加新的模块和包。\n",
    "\n",
    "##### 面试题2 \n",
    "\n",
    "面试题目：  \n",
    "你被要求审查一个Python项目的代码，该项目包含多个模块和包。你注意到有些模块被导入时使用了绝对导入，而有些则使用了相对导入。请解释绝对导入和相对导入的区别，并给出你会如何决定在什么情况下使用它们的建议。\n",
    "\n",
    "面试考题知识点：\n",
    "\n",
    " *  绝对导入和相对导入的定义\n",
    " *  导入方式的选择标准\n",
    " *  Python项目中导入模块的最佳实践\n",
    "\n",
    "答案或代码：  \n",
    "不涉及具体代码，而是关于导入机制的理解。\n",
    "\n",
    "答案或代码解析：  \n",
    "绝对导入是指直接使用模块或包的全名来导入它们。例如，`import mypackage.mymodule`或`from mypackage.mymodule import myfunction`。这种导入方式清晰明确，指出了模块在项目结构中的确切位置，对于大型项目来说，绝对导入有助于避免混淆。\n",
    "\n",
    "相对导入是指使用当前模块的路径作为参考来导入其他模块或包。例如，`from . import mymodule`表示导入当前包中的`mymodule`，而`from ..sub_package import another_module`表示导入父包中的`sub_package`下的`another_module`。相对导入依赖于目录结构，这在项目内部模块之间的导入时很有用，因为它们不需要知道包的全名。\n",
    "\n",
    "在选择使用绝对导入还是相对导入时，以下几点建议可能有所帮助：\n",
    "\n",
    " *  如果模块在项目的多个地方被使用，使用绝对导入，因为它们不依赖于文件路径。\n",
    " *  如果模块之间的关系很密切，且属于同一个包的不同子模块，可以使用相对导入。\n",
    " *  避免在项目的根目录下使用相对导入，因为这可能导致导入错误。\n",
    " *  遵循项目内部的一致性原则，即项目内部要么统一使用绝对导入，要么统一使用相对导入。\n",
    " *  避免使用相对导入来引用项目外部的模块，这可能导致代码难以理解和维护。\n",
    "\n",
    "在审查代码时，建议检查导入语句是否清晰表达了意图，是否易于其他开发者理解，以及是否符合项目的组织结构。\n",
    "\n",
    "##### 面试题3 \n",
    "\n",
    "面试题目： 在Python中，什么是`__init__.py`文件，它在包中的作用是什么？\n",
    "\n",
    "面试考题知识点：  \n",
    "这个问题测试了你对Python包和`__init__.py`文件的理解。\n",
    "\n",
    "答案或代码：  \n",
    "在Python中，`__init__.py`文件是一个特殊的文件，它的存在标志着其所在的目录是一个Python包，从而可以被Python的导入机制识别。`__init__.py`文件在包被导入时首先被执行，可以用来执行包级别的初始化代码，或者定义包级别的变量。\n",
    "\n",
    "答案或代码解析：  \n",
    "当我们导入一个包时，Python实际上是执行了该包下的`__init__.py`文件。这个文件可以为空，也可以包含一些初始化代码或者定义变量。例如，我们可以在`__init__.py`文件中导入包内的模块，使得只要导入了包，就可以直接使用这些模块，而无需再次导入。此外，`__init__.py`可以用来定义`__all__`列表，这个列表包含了当使用`from package import *`时应该导入的模块名。\n",
    "\n",
    "这种机制允许包的作者提供必要的信息给使用者，关于包的结构和控制包的导入行为。例如，如果一个包的子模块不经常使用，可以在`__init__.py`中不导入它们，以避免不必要的加载时间。\n",
    "\n",
    "在Python 3.3之后，引入了命名空间包的概念，这种类型的包不需要`__init__.py`文件。然而，为了向下兼容和明确表明包的意图，通常还是建议添加`__init__.py`文件。\n",
    "\n",
    "总的来说，`__init__.py`文件是包的一个组成部分，它不仅标识了包的存在，还可以用来执行包初始化代码，定义包级别的属性和方法，以及提供包的元数据。\n",
    "\n",
    "##### 面试题4 \n",
    "\n",
    "面试题9目： 在一个大型项目中，你发现有多个模块都需要使用一个复杂的正则表达式来验证电子邮件地址。你应该如何组织你的代码以避免在每个模块中重复这个正则表达式？\n",
    "\n",
    "面试考题知识点：\n",
    "\n",
    " *  代码的DRY原则（Don’t Repeat Yourself）\n",
    " *  模块的重用性\n",
    " *  共享常量和函数的最佳实践\n",
    "\n",
    "答案或代码：  \n",
    "你可以创建一个单独的模块，比如叫做`validators.py`，在这个模块中定义一个函数来执行电子邮件地址的验证。\n"
   ]
  },
  {
   "cell_type": "code",
   "execution_count": null,
   "id": "ae124a59",
   "metadata": {},
   "outputs": [],
   "source": [
    "# validators.py\n",
    "\n",
    "import re\n",
    "\n",
    "EMAIL_REGEX = re.compile(r\"[^@]+@[^@]+\\.[^@]+\")\n",
    "\n",
    "def validate_email(email_address):\n",
    "    return EMAIL_REGEX.match(email_address) is not None"
   ]
  },
  {
   "cell_type": "markdown",
   "id": "b8bfa8e8",
   "metadata": {},
   "source": [
    "\n",
    "答案或代码解析：  \n",
    "在`validators.py`模块中，我们定义了一个`EMAIL_REGEX`常量，它是一个编译后的正则表达式对象，用于匹配电子邮件地址。我们还定义了一个函数`validate_email`，它接受一个`email_address`作为参数，并使用`EMAIL_REGEX`来验证这个地址是否有效。\n",
    "\n",
    "其他需要进行电子邮件验证的模块可以简单地导入`validators`模块并使用`validate_email`函数，而不是每次都重写或复制正则表达式。这样，如果将来需要更新电子邮件验证逻辑，我们只需要在`validators.py`中修改，所有使用这个函数的模块都会自动获得更新。\n",
    "\n",
    "这种方法遵循了DRY原则，提高了代码的可维护性，并减少了重复代码的风险。它也使得代码更加模块化，因为电子邮件验证的逻辑被封装在一个单独的模块中，易于管理和测试。\n",
    "\n",
    "##### 面试题5 \n",
    "\n",
    "面试题目： 假设你正在维护一个Python项目，该项目包含多个子模块，它们都需要从一个配置文件中读取设置。请描述你将如何组织代码以允许这些子模块访问配置信息，并避免在每个子模块中重复加载配置文件。\n",
    "\n",
    "面试考题知识点：\n",
    "\n",
    " *  配置文件的管理\n",
    " *  模块的单例模式\n",
    " *  全局状态的共享\n",
    "\n",
    "答案或代码：  \n",
    "你可以创建一个名为`config.py`的模块，在这个模块中加载配置文件，并将配置信息存储在模块级别的变量中。\n"
   ]
  },
  {
   "cell_type": "code",
   "execution_count": null,
   "id": "45cbc5e3",
   "metadata": {},
   "outputs": [],
   "source": [
    "# config.py\n",
    "\n",
    "import json\n",
    "\n",
    "def load_config():\n",
    "    with open('config.json', 'r') as f:\n",
    "        return json.load(f)\n",
    "\n",
    "CONFIG = load_config()"
   ]
  },
  {
   "cell_type": "markdown",
   "id": "252d8539",
   "metadata": {},
   "source": [
    "\n",
    "答案或代码解析：  \n",
    "在`config.py`模块中，我们首先定义了一个`load_config`函数，它负责打开配置文件（假设是JSON格式）并加载其内容。然后，我们调用这个函数并将结果赋值给`CONFIG`变量。\n",
    "\n",
    "其他模块可以通过导入`config`模块来访问配置信息：\n"
   ]
  },
  {
   "cell_type": "code",
   "execution_count": null,
   "id": "a6a56641",
   "metadata": {},
   "outputs": [],
   "source": [
    "# some_module.py\n",
    "\n",
    "from config import CONFIG\n",
    "\n",
    "def use_setting():\n",
    "    setting_value = CONFIG['some_setting']\n",
    "    # 使用配置信息的逻辑..."
   ]
  },
  {
   "cell_type": "markdown",
   "id": "34b68360",
   "metadata": {},
   "source": [
    "\n",
    "由于模块在一个Python程序的运行周期中只会被加载一次，`CONFIG`变量将作为一个单例存在。这意味着配置文件只会被读取一次，无论有多少个模块导入了`config`模块。这种方法不仅避免了重复加载配置文件，还提供了一个集中的位置来管理和更新配置信息。\n",
    "\n",
    "##### 面试题6 \n",
    "\n",
    "面试题目： 假设你正在维护一个Python项目，该项目包含多个子模块，它们都需要从一个配置文件中读取设置。请描述你将如何组织代码以允许这些子模块访问配置信息，并避免在每个子模块中重复加载配置文件。\n",
    "\n",
    "面试考题知识点：\n",
    "\n",
    " *  配置文件的管理\n",
    " *  模块的单例模式\n",
    " *  全局状态的共享\n",
    "\n",
    "答案或代码：  \n",
    "你可以创建一个名为`config.py`的模块，在这个模块中加载配置文件，并将配置信息存储在模块级别的变量中。\n"
   ]
  },
  {
   "cell_type": "code",
   "execution_count": null,
   "id": "5397da78",
   "metadata": {},
   "outputs": [],
   "source": [
    "# config.py\n",
    "\n",
    "import json\n",
    "\n",
    "def load_config():\n",
    "    with open('config.json', 'r') as f:\n",
    "        return json.load(f)\n",
    "\n",
    "CONFIG = load_config()"
   ]
  },
  {
   "cell_type": "markdown",
   "id": "cbce6826",
   "metadata": {},
   "source": [
    "\n",
    "答案或代码解析：  \n",
    "在`config.py`模块中，我们首先定义了一个`load_config`函数，它负责打开配置文件（假设是JSON格式）并加载其内容。然后，我们调用这个函数并将结果赋值给`CONFIG`变量。\n",
    "\n",
    "其他模块可以通过导入`config`模块来访问配置信息：\n"
   ]
  },
  {
   "cell_type": "code",
   "execution_count": null,
   "id": "b811e8d8",
   "metadata": {},
   "outputs": [],
   "source": [
    "# some_module.py\n",
    "\n",
    "from config import CONFIG\n",
    "\n",
    "def use_setting():\n",
    "    setting_value = CONFIG['some_setting']\n",
    "    # 使用配置信息的逻辑..."
   ]
  },
  {
   "cell_type": "markdown",
   "id": "be9e9906",
   "metadata": {},
   "source": [
    "\n",
    "由于模块在一个Python程序的运行周期中只会被加载一次，`CONFIG`变量将作为一个单例存在。这意味着配置文件只会被读取一次，无论有多少个模块导入了`config`模块。这种方法不仅避免了重复加载配置文件，还提供了一个集中的位置来管理和更新配置信息。\n",
    "\n",
    "##### 面试题7 \n",
    "\n",
    "面试题目： 在Python项目中，你如何确保模块在被导入时不会执行不必要的代码，特别是当这些代码可能会启动数据库连接或其他资源密集型操作时？\n",
    "\n",
    "面试考题知识点：\n",
    "\n",
    " *  `if __name__ == \"__main__\"` 的使用\n",
    " *  模块导入行为\n",
    " *  资源管理和模块初始化\n",
    "\n",
    "答案或代码：  \n",
    "为了防止模块在被导入时执行不必要的代码，你应该将这些代码放在一个检查 `__name__` 变量的条件块中。当Python文件被直接运行时，`__name__` 变量被设置为 `\"__main__\"`，但是当文件被导入为模块时，`__name__` 将被设置为模块的名字。\n"
   ]
  },
  {
   "cell_type": "code",
   "execution_count": null,
   "id": "861a9663",
   "metadata": {},
   "outputs": [],
   "source": [
    "# resource_intensive_module.py\n",
    "\n",
    "def connect_to_database():\n",
    "    print(\"Establishing database connection...\")\n",
    "    # 建立数据库连接的代码\n",
    "\n",
    "def initialize_resources():\n",
    "    print(\"Initializing resources...\")\n",
    "    # 初始化资源的代码\n",
    "\n",
    "# 这个条件块确保以下代码只有在文件被直接运行时才会执行\n",
    "if __name__ == \"__main__\":\n",
    "    connect_to_database()\n",
    "    initialize_resources()"
   ]
  },
  {
   "cell_type": "markdown",
   "id": "3d61e27d",
   "metadata": {},
   "source": [
    "\n",
    "答案或代码解析：  \n",
    "在`resource_intensive_module.py`文件中，我们定义了两个函数`connect_to_database`和`initialize_resources`，这些函数可能会启动数据库连接或其他资源密集型操作。\n",
    "\n",
    "为了防止这些函数在模块被导入时执行，我们将它们的调用放在了一个`if __name__ == \"__main__\"`条件块中。这样，只有当模块被作为脚本直接运行时（即`__name__`变量的值为`\"__main__\"`时），这些函数才会被调用。当模块被其他文件导入时，这些资源密集型的操作不会执行，从而避免了不必要的资源消耗和潜在的副作用。\n",
    "\n",
    "##### 面试题8 \n",
    "\n",
    "面试题目： 假设你正在开发一个Python库，该库提供了一系列数学运算的功能。你想要允许用户根据需要导入特定的功能，同时也提供一个方式来一次性导入所有功能。请描述你将如何组织你的代码结构，并给出一个简单的示例。\n",
    "\n",
    "面试考题知识点：\n",
    "\n",
    " *  Python包和模块的组织\n",
    " *  提供模块级别和包级别的导入选项\n",
    " *  `__init__.py`文件的使用\n",
    "\n",
    "答案或代码：  \n",
    "为了提供灵活的导入选项，你可以将每个数学运算功能定义在单独的模块中，并在包的`__init__.py`文件中导入这些模块，以便用户可以根据需要选择导入方式。\n",
    "\n",
    "示例代码结构：\n"
   ]
  },
  {
   "cell_type": "code",
   "execution_count": null,
   "id": "6f87cf81",
   "metadata": {},
   "outputs": [],
   "source": [
    "mymathlib/\n",
    "│\n",
    "├── __init__.py\n",
    "├── addition.py\n",
    "├── subtraction.py\n",
    "└── multiplication.py"
   ]
  },
  {
   "cell_type": "markdown",
   "id": "9231f578",
   "metadata": {},
   "source": [
    "\n",
    "addition.py:\n"
   ]
  },
  {
   "cell_type": "code",
   "execution_count": null,
   "id": "a66f3b6c",
   "metadata": {},
   "outputs": [],
   "source": [
    "def add(x, y):\n",
    "    return x + y"
   ]
  },
  {
   "cell_type": "markdown",
   "id": "bbba88ee",
   "metadata": {},
   "source": [
    "\n",
    "subtraction.py:\n"
   ]
  },
  {
   "cell_type": "code",
   "execution_count": null,
   "id": "cbedde68",
   "metadata": {},
   "outputs": [],
   "source": [
    "def subtract(x, y):\n",
    "    return x - y"
   ]
  },
  {
   "cell_type": "markdown",
   "id": "2d8bc31a",
   "metadata": {},
   "source": [
    "\n",
    "multiplication.py:\n"
   ]
  },
  {
   "cell_type": "code",
   "execution_count": null,
   "id": "01be33c8",
   "metadata": {},
   "outputs": [],
   "source": [
    "def multiply(x, y):\n",
    "    return x * y"
   ]
  },
  {
   "cell_type": "markdown",
   "id": "62f524d6",
   "metadata": {},
   "source": [
    "\n",
    "`__init__.py`:\n"
   ]
  },
  {
   "cell_type": "code",
   "execution_count": null,
   "id": "ab0132fd",
   "metadata": {},
   "outputs": [],
   "source": [
    "from .addition import add\n",
    "from .subtraction import subtract\n",
    "from .multiplication import multiply\n",
    "\n",
    "__all__ = ['add', 'subtract', 'multiply']"
   ]
  },
  {
   "cell_type": "markdown",
   "id": "f8cfa6c3",
   "metadata": {},
   "source": [
    "\n",
    "答案或代码解析：  \n",
    "在这个示例中，`mymathlib`是一个包，它包含三个模块：`addition.py`、`subtraction.py`和`multiplication.py`，每个模块提供了一个特定的数学运算功能。\n",
    "\n",
    "在`mymathlib`包的`__init__.py`文件中，我们导入了每个模块中定义的函数，并在`__all__`列表中指定了这些函数。这样做的目的是允许用户通过不同的方式导入这些功能：\n",
    "\n",
    " *  用户可以通过导入特定的模块来只获取他们需要的功能，例如：`from mymathlib.addition import add`。\n",
    " *  用户也可以通过导入整个包来一次性获取所有功能，例如：`from mymathlib import *`。\n",
    "\n",
    "这种组织结构既保持了代码的模块化和可维护性，又提供了灵活的导入选项，满足不同用户的需求。\n",
    "\n",
    "##### 面试题9 \n",
    "\n",
    "面试题目： 设想你负责一个大型Python项目，该项目中包含了多个用于处理不同类型数据的模块。现在，你需要实现一个日志系统，以便在所有模块中统一记录日志信息。请解释你会如何设计这个系统，并提供一个基本的实现示例。\n",
    "\n",
    "面试考题知识点：\n",
    "\n",
    " *  跨模块共享功能的设计\n",
    " *  Python的日志模块使用\n",
    " *  设计可扩展的日志系统\n",
    "\n",
    "答案或代码：  \n",
    "为了实现一个跨模块的统一日志系统，你可以创建一个专门的日志配置模块，在这个模块中配置日志系统，并在其他模块中导入并使用这个配置好的日志器（logger）。\n",
    "\n",
    "示例代码结构：\n"
   ]
  },
  {
   "cell_type": "code",
   "execution_count": null,
   "id": "e6136368",
   "metadata": {},
   "outputs": [],
   "source": [
    "myproject/\n",
    "│\n",
    "├── logger_config.py\n",
    "├── module1.py\n",
    "└── module2.py"
   ]
  },
  {
   "cell_type": "markdown",
   "id": "0a6c220b",
   "metadata": {},
   "source": [
    "\n",
    "logger\\_config.py:\n"
   ]
  },
  {
   "cell_type": "code",
   "execution_count": null,
   "id": "e5814eed",
   "metadata": {},
   "outputs": [],
   "source": [
    "import logging\n",
    "\n",
    "def setup_logger():\n",
    "    logger = logging.getLogger('myproject')\n",
    "    logger.setLevel(logging.DEBUG)\n",
    "    \n",
    "    # 创建一个控制台处理器，并设置级别为debug\n",
    "    ch = logging.StreamHandler()\n",
    "    ch.setLevel(logging.DEBUG)\n",
    "    \n",
    "    # 创建一个格式器\n",
    "    formatter = logging.Formatter('%(asctime)s - %(name)s - %(levelname)s - %(message)s')\n",
    "    \n",
    "    # 给处理器添加格式器\n",
    "    ch.setFormatter(formatter)\n",
    "    \n",
    "    # 给日志器添加处理器\n",
    "    logger.addHandler(ch)\n",
    "    \n",
    "    return logger"
   ]
  },
  {
   "cell_type": "markdown",
   "id": "0cc7d4c1",
   "metadata": {},
   "source": [
    "\n",
    "module1.py:\n"
   ]
  },
  {
   "cell_type": "code",
   "execution_count": null,
   "id": "212cf6de",
   "metadata": {},
   "outputs": [],
   "source": [
    "from logger_config import setup_logger\n",
    "\n",
    "logger = setup_logger()\n",
    "\n",
    "def do_something():\n",
    "    logger.info(\"Doing something in module1...\")\n",
    "    # 实现一些功能..."
   ]
  },
  {
   "cell_type": "markdown",
   "id": "5f65de2d",
   "metadata": {},
   "source": [
    "\n",
    "module2.py:\n"
   ]
  },
  {
   "cell_type": "code",
   "execution_count": null,
   "id": "586d2c0c",
   "metadata": {},
   "outputs": [],
   "source": [
    "from logger_config import setup_logger\n",
    "\n",
    "logger = setup_logger()\n",
    "\n",
    "def do_something_else():\n",
    "    logger.info(\"Doing something else in module2...\")\n",
    "    # 实现一些其他功能..."
   ]
  },
  {
   "cell_type": "markdown",
   "id": "5ad61062",
   "metadata": {},
   "source": [
    "\n",
    "答案或代码解析：  \n",
    "在这个示例中，`logger_config.py`负责配置日志系统。它定义了一个`setup_logger`函数，该函数配置并返回一个日志器对象，这个对象已经添加了一个控制台处理器，并设置了日志格式。\n",
    "\n",
    "在`module1.py`和`module2.py`中，我们导入了`setup_logger`函数，并使用它来获取配置好的日志器。然后，在这些模块的函数中，我们可以使用这个日志器来记录日志信息。\n",
    "\n",
    "这种方式使得日志配置集中在一个地方进行管理，所有模块都使用相同的日志器进行日志记录，实现了日志信息的统一管理和记录。此外，通过修改`logger_config.py`，可以很容易地对整个项目的日志系统进行调整，如添加文件日志处理器、修改日志级别等，而无需修改每个模块的代码。\n",
    "\n",
    "##### 面试题10 \n",
    "\n",
    "面试题目： 假设你正在为一个Python项目工作，该项目需要频繁地读取和写入多种格式的配置文件（比如JSON、YAML和INI）。为了简化这个过程，你计划实现一个配置管理模块，允许项目中的其他部分通过一个统一的接口来处理不同格式的配置文件。请描述你将如何设计这个模块，并给出一个简单的实现示例。\n",
    "\n",
    "面试考题知识点：\n",
    "\n",
    " *  设计模式（例如工厂模式）\n",
    " *  模块和包的组织\n",
    " *  处理不同格式数据的策略\n",
    "\n",
    "答案或代码：  \n",
    "为了提供一个统一的接口来处理不同格式的配置文件，你可以设计一个配置管理模块，使用工厂模式来根据配置文件的格式创建相应的处理器。\n",
    "\n",
    "示例代码结构：\n"
   ]
  },
  {
   "cell_type": "code",
   "execution_count": null,
   "id": "08898d9e",
   "metadata": {},
   "outputs": [],
   "source": [
    "config_manager/\n",
    "│\n",
    "├── __init__.py\n",
    "├── config_factory.py\n",
    "├── json_config_handler.py\n",
    "├── yaml_config_handler.py\n",
    "└── ini_config_handler.py"
   ]
  },
  {
   "cell_type": "markdown",
   "id": "d2b985a9",
   "metadata": {},
   "source": [
    "\n",
    "config\\_factory.py:\n"
   ]
  },
  {
   "cell_type": "code",
   "execution_count": null,
   "id": "db7a36d6",
   "metadata": {},
   "outputs": [],
   "source": [
    "from .json_config_handler import JsonConfigHandler\n",
    "from .yaml_config_handler import YamlConfigHandler\n",
    "from .ini_config_handler import IniConfigHandler\n",
    "\n",
    "def get_config_handler(file_type):\n",
    "    if file_type == 'json':\n",
    "        return JsonConfigHandler()\n",
    "    elif file_type == 'yaml':\n",
    "        return YamlConfigHandler()\n",
    "    elif file_type == 'ini':\n",
    "        return IniConfigHandler()\n",
    "    else:\n",
    "        raise ValueError(\"Unsupported file type\")"
   ]
  },
  {
   "cell_type": "markdown",
   "id": "d6359bef",
   "metadata": {},
   "source": [
    "\n",
    "json\\_config\\_handler.py (示例):\n"
   ]
  },
  {
   "cell_type": "code",
   "execution_count": null,
   "id": "ccd2791e",
   "metadata": {},
   "outputs": [],
   "source": [
    "import json\n",
    "\n",
    "class JsonConfigHandler:\n",
    "    def read(self, file_path):\n",
    "        with open(file_path, 'r') as f:\n",
    "            return json.load(f)\n",
    "    \n",
    "    def write(self, file_path, data):\n",
    "        with open(file_path, 'w') as f:\n",
    "            json.dump(data, f, indent=4)"
   ]
  },
  {
   "cell_type": "markdown",
   "id": "9edbd76c",
   "metadata": {},
   "source": [
    "\n",
    "使用示例：\n"
   ]
  },
  {
   "cell_type": "code",
   "execution_count": null,
   "id": "2be55c81",
   "metadata": {},
   "outputs": [],
   "source": [
    "from config_manager.config_factory import get_config_handler\n",
    "\n",
    "config_handler = get_config_handler('json')\n",
    "config_data = config_handler.read('config.json')\n",
    "config_handler.write('new_config.json', config_data)"
   ]
  },
  {
   "cell_type": "markdown",
   "id": "6e80e475",
   "metadata": {},
   "source": [
    "\n",
    "答案或代码解析：  \n",
    "在这个示例中，`config_factory.py`文件中定义了一个`get_config_handler`函数，它根据传入的文件类型返回相应格式的配置处理器对象。每种配置文件格式（如JSON、YAML、INI）都有对应的处理器类，这些类实现了统一的`read`和`write`方法用于读取和写入配置数据。\n",
    "\n",
    "这种设计允许项目的其他部分通过一个统一的接口来处理不同格式的配置文件，而无需关心具体的文件格式。如果未来需要支持新的配置文件格式，只需添加相应的处理器类并在`config_factory`中添加相应的逻辑即可，不需要修改现有的代码。\n",
    "\n",
    "这个模块的设计遵循了开闭原则（对扩展开放，对修改封闭），提高了代码的可维护性和可扩展性。"
   ]
  }
 ],
 "metadata": {},
 "nbformat": 4,
 "nbformat_minor": 5
}
