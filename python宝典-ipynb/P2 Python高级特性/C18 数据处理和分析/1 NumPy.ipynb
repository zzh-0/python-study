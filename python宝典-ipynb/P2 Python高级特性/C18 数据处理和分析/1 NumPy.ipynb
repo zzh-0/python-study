{
 "cells": [
  {
   "cell_type": "markdown",
   "id": "c950ca50",
   "metadata": {},
   "source": [
    "* TOC\n",
    "{:toc}\n",
    "\n",
    "## 第十八章：数据处理和分析 \n",
    "\n",
    "### 第一节：NumPy \n",
    "\n",
    "NumPy（Numerical Python的简称）是Python中用于科学计算的基础库之一，它提供了高性能的多维数组对象和这些数组的操作工具。以下是NumPy的一些核心知识点详解：\n",
    "\n",
    "#### 1. NumPy数组（ndarray） \n",
    "\n",
    "NumPy的主要对象是同构多维数组`ndarray`。它是一个元素类型相同的n维数组，每个元素在内存中都有相同大小的块。NumPy数组有两个关键属性：`shape`（一个表示各维度大小的元组）和`dtype`（一个用于描述数组中元素类型的对象）。\n"
   ]
  },
  {
   "cell_type": "code",
   "execution_count": null,
   "id": "f13b9fc5",
   "metadata": {},
   "outputs": [],
   "source": [
    "import numpy as np\n",
    "\n",
    "# 创建一个3x3的数组\n",
    "arr = np.array([[1, 2, 3], [4, 5, 6], [7, 8, 9]])\n",
    "print(arr.shape)  # 输出: (3, 3)\n",
    "print(arr.dtype)  # 输出: int64"
   ]
  },
  {
   "cell_type": "markdown",
   "id": "19af760b",
   "metadata": {},
   "source": [
    "\n",
    "#### 2. 创建数组 \n",
    "\n",
    "NumPy提供了多种创建数组的方法，包括从Python列表转换、使用初始化函数（如`zeros`、`ones`、`arange`等）等。\n"
   ]
  },
  {
   "cell_type": "code",
   "execution_count": null,
   "id": "4646238f",
   "metadata": {},
   "outputs": [],
   "source": [
    "# 从列表创建数组\n",
    "arr_from_list = np.array([1, 2, 3, 4])\n",
    "\n",
    "# 创建全0数组\n",
    "zeros_arr = np.zeros((2, 3))\n",
    "\n",
    "# 创建全1数组\n",
    "ones_arr = np.ones((3, 3))\n",
    "\n",
    "# 创建一个序列数组\n",
    "range_arr = np.arange(10)"
   ]
  },
  {
   "cell_type": "markdown",
   "id": "6b361d63",
   "metadata": {},
   "source": [
    "\n",
    "#### 3. 数组索引和切片 \n",
    "\n",
    "NumPy数组支持多种索引方式，包括基本索引、切片、布尔索引等。\n"
   ]
  },
  {
   "cell_type": "code",
   "execution_count": null,
   "id": "2ec86708",
   "metadata": {},
   "outputs": [],
   "source": [
    "arr = np.array([[1, 2, 3], [4, 5, 6], [7, 8, 9]])\n",
    "\n",
    "# 基本索引\n",
    "print(arr[0, 1])  # 输出: 2\n",
    "\n",
    "# 切片\n",
    "print(arr[0:2, 1:3])\n",
    "\n",
    "# 布尔索引\n",
    "print(arr[arr > 5])"
   ]
  },
  {
   "cell_type": "markdown",
   "id": "8a2fbad7",
   "metadata": {},
   "source": [
    "\n",
    "#### 4. 数组形状操作 \n",
    "\n",
    "NumPy提供了多种修改数组形状的方法，如`reshape`、`flatten`、`transpose`等。\n"
   ]
  },
  {
   "cell_type": "code",
   "execution_count": null,
   "id": "c6973f57",
   "metadata": {},
   "outputs": [],
   "source": [
    "arr = np.arange(6).reshape((2, 3))\n",
    "\n",
    "# 转置数组\n",
    "print(arr.transpose())\n",
    "\n",
    "# 展平数组\n",
    "print(arr.flatten())"
   ]
  },
  {
   "cell_type": "markdown",
   "id": "ec624c56",
   "metadata": {},
   "source": [
    "\n",
    "#### 5. 数学和统计方法 \n",
    "\n",
    "NumPy提供了一系列用于数学计算和统计分析的方法，包括加、减、乘、除、平方根、指数、对数、平均值、中位数、方差、标准差等。\n"
   ]
  },
  {
   "cell_type": "code",
   "execution_count": null,
   "id": "a7763f7a",
   "metadata": {},
   "outputs": [],
   "source": [
    "arr = np.array([[1, 2, 3], [4, 5, 6]])\n",
    "\n",
    "# 数组求和\n",
    "print(arr.sum())\n",
    "\n",
    "# 求平均值\n",
    "print(arr.mean())\n",
    "\n",
    "# 求标准差\n",
    "print(arr.std())"
   ]
  },
  {
   "cell_type": "markdown",
   "id": "af8dbb56",
   "metadata": {},
   "source": [
    "\n",
    "#### 6. 广播机制 \n",
    "\n",
    "广播是NumPy中一种强大的机制，它允许不同形状的数组进行算术运算。当操作的两个数组形状不相同时，NumPy会自动触发广播机制。\n",
    "\n",
    "#### 7. 线性代数 \n",
    "\n",
    "NumPy提供了一系列线性代数的函数，包括矩阵乘法、矩阵分解、行列式、求逆等。\n"
   ]
  },
  {
   "cell_type": "code",
   "execution_count": null,
   "id": "3e14cb5b",
   "metadata": {},
   "outputs": [],
   "source": [
    "arr = np.array([[1, 2], [3, 4]])\n",
    "\n",
    "# 矩阵乘法\n",
    "print(np.dot(arr, arr))\n",
    "\n",
    "# 求逆矩阵\n",
    "print(np.linalg.inv(arr))"
   ]
  },
  {
   "cell_type": "markdown",
   "id": "c80e0834",
   "metadata": {},
   "source": [
    "\n",
    "NumPy是科学计算中不可或缺的工具，它的高性能和强大功能使得处理大型多维数组成为可能。熟练掌握NumPy是进行数据分析、机器学习等领域工作的基础。\n",
    "\n",
    "### Python中与NumPy相关的面试笔试题 \n",
    "\n",
    "#### 面试题1 \n",
    "\n",
    "面试题目：解释NumPy中`view`和`copy`的区别，并给出示例。\n",
    "\n",
    "面试题考点：\n",
    "\n",
    " *  理解NumPy数组的内存模型。\n",
    " *  区分`view`（视图）和`copy`（副本）的概念及其使用场景。\n",
    " *  能够展示如何在NumPy中创建数组的视图和副本。\n",
    "\n",
    "答案或代码：  \n",
    "在NumPy中，`view`是数据的一个新视图，它与原数组共享同一块数据存储，而`copy`则是数据的一个完全复制，它与原数组有着不同的数据存储。\n"
   ]
  },
  {
   "cell_type": "code",
   "execution_count": null,
   "id": "1ecdeb79",
   "metadata": {},
   "outputs": [],
   "source": [
    "import numpy as np\n",
    "\n",
    "arr = np.arange(10)\n",
    "# 创建view\n",
    "arr_view = arr[5:8]  # arr_view是arr的一部分，与arr共享数据\n",
    "arr_view[:] = 0\n",
    "\n",
    "# 创建copy\n",
    "arr_copy = arr[5:8].copy()  # arr_copy是arr的副本，拥有自己的数据\n",
    "arr_copy[:] = 1\n",
    "\n",
    "print(arr)  # 修改arr_view会影响arr，但修改arr_copy不会影响arr"
   ]
  },
  {
   "cell_type": "markdown",
   "id": "26c83e2e",
   "metadata": {},
   "source": [
    "\n",
    "答案或代码解析：  \n",
    "在上述代码中，`arr_view`是`arr`的一个视图，通过切片创建。修改`arr_view`会影响`arr`，因为它们共享同一块内存。而`arr_copy`是通过`.copy()`方法创建的`arr`的副本，拥有自己独立的数据存储，因此修改`arr_copy`不会影响`arr`。理解`view`和`copy`的区别对于高效和安全地处理NumPy数组至关重要。\n",
    "\n",
    "#### 面试题2 \n",
    "\n",
    "面试题目：如何在NumPy中使用布尔索引？\n",
    "\n",
    "面试题考点：\n",
    "\n",
    " *  理解布尔索引的概念。\n",
    " *  掌握如何使用布尔索引进行复杂的数据选择。\n",
    " *  能够展示如何根据条件过滤NumPy数组中的数据。\n",
    "\n",
    "答案或代码：  \n",
    "布尔索引允许使用布尔值数组来索引目标数组，常用于根据某些条件选择数组中的元素。\n"
   ]
  },
  {
   "cell_type": "code",
   "execution_count": null,
   "id": "d1ad7a81",
   "metadata": {},
   "outputs": [],
   "source": [
    "import numpy as np\n",
    "\n",
    "arr = np.array([1, 2, 3, 4, 5, 6])\n",
    "\n",
    "# 使用布尔索引过滤数据\n",
    "result = arr[arr > 3]  # 选择arr中所有大于3的元素\n",
    "\n",
    "print(result)  # 输出: [4 5 6]"
   ]
  },
  {
   "cell_type": "markdown",
   "id": "afd824e2",
   "metadata": {},
   "source": [
    "\n",
    "答案或代码解析：  \n",
    "在上述代码中，`arr > 3`产生了一个布尔数组，该数组中的每个元素都表示`arr`中相应位置上的元素是否满足条件（大于3）。然后，这个布尔数组被用作`arr`的索引，选择出所有满足条件的元素。布尔索引是一种非常强大的数据选择工具，它使得基于复杂条件的数据过滤变得简单直接。\n",
    "\n",
    "#### 面试题3 \n",
    "\n",
    "面试题目：NumPy中的广播机制是什么？请给出一个广播的例子。\n",
    "\n",
    "面试题考点：\n",
    "\n",
    " *  理解广播机制的定义和作用。\n",
    " *  掌握广播机制的规则。\n",
    " *  能够展示如何在NumPy中应用广播机制进行数组操作。\n",
    "\n",
    "答案或代码：  \n",
    "广播机制是NumPy中一种用于不同形状数组进行算术运算的机制。当进行运算的数组形状不相同时，NumPy会自动应用广播规则。\n"
   ]
  },
  {
   "cell_type": "code",
   "execution_count": null,
   "id": "b66a8b4f",
   "metadata": {},
   "outputs": [],
   "source": [
    "import numpy as np\n",
    "\n",
    "arr = np.array([[1, 2, 3], [4, 5, 6]])\n",
    "scalar = 10\n",
    "\n",
    "# 使用广播机制进行运算\n",
    "result = arr * scalar  # 将标量10广播到arr的每个元素\n",
    "\n",
    "print(result)"
   ]
  },
  {
   "cell_type": "markdown",
   "id": "889c26d7",
   "metadata": {},
   "source": [
    "\n",
    "答案或代码解析：  \n",
    "在上述代码中，`arr`是一个形状为`(2, 3)`的数组，而`scalar`是一个标量（可以视为形状为`()`的数组）。在执行乘法运算时，标量`scalar`被“广播”到`arr`的每个元素上，即将`scalar`扩展为与`arr`相同形状的数组，然后进行逐元素的乘法运算。广播机制使得对不同形状的数组进行操作变得简单而高效。\n",
    "\n",
    "#### 面试题4 \n",
    "\n",
    "面试题目：在NumPy中如何合并两个数组？\n",
    "\n",
    "面试题考点：\n",
    "\n",
    " *  理解NumPy数组合并的方法。\n",
    " *  掌握`concatenate`、`vstack`、`hstack`等函数的使用。\n",
    " *  能够展示如何根据不同的轴合并数组。\n",
    "\n",
    "答案或代码：  \n",
    "NumPy提供了多种函数来合并数组，包括`concatenate`、`vstack`和`hstack`等。\n"
   ]
  },
  {
   "cell_type": "code",
   "execution_count": null,
   "id": "91a175a3",
   "metadata": {},
   "outputs": [],
   "source": [
    "import numpy as np\n",
    "\n",
    "# 创建两个数组\n",
    "arr1 = np.array([[1, 2], [3, 4]])\n",
    "arr2 = np.array([[5, 6], [7, 8]])\n",
    "\n",
    "# 沿着第一个轴合并（垂直合并）\n",
    "v_merged = np.vstack((arr1, arr2))\n",
    "\n",
    "# 沿着第二个轴合并（水平合并）\n",
    "h_merged = np.hstack((arr1, arr2))\n",
    "\n",
    "# 使用concatenate进行合并\n",
    "concatenated = np.concatenate((arr1, arr2), axis=0)  # 沿着第一个轴合并"
   ]
  },
  {
   "cell_type": "markdown",
   "id": "f824da62",
   "metadata": {},
   "source": [
    "\n",
    "答案或代码解析：  \n",
    "在上述代码中，`vstack`函数用于垂直堆叠（沿着第一个轴），而`hstack`函数用于水平堆叠（沿着第二个轴）。`concatenate`函数更为通用，可以通过`axis`参数指定沿哪个轴合并。选择合适的合并函数取决于数据的结构和需要的合并方向。\n",
    "\n",
    "#### 面试题5 \n",
    "\n",
    "面试题目：如何在NumPy中计算两个数组的点积？\n",
    "\n",
    "面试题考点：\n",
    "\n",
    " *  理解点积的数学定义。\n",
    " *  掌握如何在NumPy中实现向量或矩阵的点积。\n",
    " *  能够展示如何使用`dot`函数或`@`操作符。\n",
    "\n",
    "答案或代码：  \n",
    "NumPy中的点积可以使用`dot`函数或`@`操作符计算。\n"
   ]
  },
  {
   "cell_type": "code",
   "execution_count": null,
   "id": "21331c69",
   "metadata": {},
   "outputs": [],
   "source": [
    "import numpy as np\n",
    "\n",
    "# 创建两个向量\n",
    "vec1 = np.array([1, 2, 3])\n",
    "vec2 = np.array([4, 5, 6])\n",
    "\n",
    "# 计算点积\n",
    "dot_product = np.dot(vec1, vec2)\n",
    "# 或者使用 @ 操作符\n",
    "dot_product_at = vec1 @ vec2\n",
    "\n",
    "print(dot_product)  # 输出: 32\n",
    "print(dot_product_at)  # 输出: 32"
   ]
  },
  {
   "cell_type": "markdown",
   "id": "0c7b0ad7",
   "metadata": {},
   "source": [
    "\n",
    "答案或代码解析：  \n",
    "在上述代码中，`vec1`和`vec2`是两个一维数组（向量）。使用`np.dot`函数或`@`操作符可以计算这两个向量的点积，即对应元素相乘后的和。点积是线性代数中的一个基本运算，它在数据分析和机器学习中有广泛的应用。\n",
    "\n",
    "#### 面试题6 \n",
    "\n",
    "面试题目：如何在NumPy中创建一个单位矩阵？\n",
    "\n",
    "面试题考点：\n",
    "\n",
    " *  理解单位矩阵的定义和性质。\n",
    " *  掌握NumPy中创建单位矩阵的方法。\n",
    " *  能够展示如何使用`eye`函数。\n",
    "\n",
    "答案或代码：  \n",
    "NumPy中可以使用`eye`函数来创建一个单位矩阵。\n"
   ]
  },
  {
   "cell_type": "code",
   "execution_count": null,
   "id": "a207fbb8",
   "metadata": {},
   "outputs": [],
   "source": [
    "import numpy as np\n",
    "\n",
    "# 创建一个3x3的单位矩阵\n",
    "identity_matrix = np.eye(3)\n",
    "\n",
    "print(identity_matrix)"
   ]
  },
  {
   "cell_type": "markdown",
   "id": "a6fd4da4",
   "metadata": {},
   "source": [
    "\n",
    "答案或代码解析：  \n",
    "`np.eye`函数创建了一个3x3的单位矩阵，其中对角线上的元素为1，其余元素为0。单位矩阵在矩阵运算中充当乘法的身份元素，即任何矩阵与单位矩阵相乘都会得到其本身。这在解决线性方程组和矩阵求逆等问题中非常有用。\n",
    "\n",
    "#### 面试题7 \n",
    "\n",
    "面试题目：请解释NumPy数组的广播机制。\n",
    "\n",
    "面试题考点：\n",
    "\n",
    " *  理解广播机制的定义和作用。\n",
    " *  掌握广播机制的规则和应用场景。\n",
    " *  能够展示如何在NumPy中应用广播机制进行数组操作。\n",
    "\n",
    "答案或代码：  \n",
    "广播机制是NumPy中一种用于不同形状数组进行算术运算的机制。当进行运算的数组形状不相同时，NumPy会自动应用广播规则，使得运算能够顺利进行。\n",
    "\n",
    "广播机制的定义  \n",
    "广播机制允许NumPy在执行算术运算时，自动扩展数组的形状，以使它们能够兼容。广播机制的核心在于将较小的数组“扩展”成与较大数组形状相同的数组，而无需实际复制数据，从而提高计算效率。\n",
    "\n",
    "广播机制的规则\n",
    "\n",
    "1.  比较两个数组的形状：从末尾开始逐个维度比较。\n",
    "2.  兼容条件：\n",
    "    \n",
    "     *  两个维度的长度相同。\n",
    "     *  其中一个维度的长度为1。\n",
    "3.  扩展规则：\n",
    "    \n",
    "     *  如果其中一个数组的某个维度长度为1，则沿着该维度“扩展”这个数组，使其与另一个数组的维度长度相同。\n",
    "\n",
    "示例代码  \n",
    "以下是一个广播机制的例子，展示了如何在NumPy中应用广播机制进行数组操作：\n"
   ]
  },
  {
   "cell_type": "code",
   "execution_count": null,
   "id": "d5d72c45",
   "metadata": {},
   "outputs": [],
   "source": [
    "import numpy as np\n",
    "\n",
    "# 创建两个形状不同的数组\n",
    "arr1 = np.array([[1, 2, 3], [4, 5, 6]])\n",
    "arr2 = np.array([10, 20, 30])\n",
    "\n",
    "# 使用广播机制进行运算\n",
    "result = arr1 + arr2\n",
    "\n",
    "print(result)"
   ]
  },
  {
   "cell_type": "markdown",
   "id": "654a96dc",
   "metadata": {},
   "source": [
    "\n",
    "答案或代码解析：  \n",
    "在上述代码中，`arr1`是一个形状为`(2, 3)`的二维数组，而`arr2`是一个形状为`(3,)`的一维数组。在进行加法运算时，NumPy会自动将`arr2`的形状扩展为`(1, 3)`，然后再扩展为`(2, 3)`，使得它与`arr1`的形状兼容。最终，两个数组按元素逐个相加，得到结果数组：\n"
   ]
  },
  {
   "cell_type": "code",
   "execution_count": null,
   "id": "5172f966",
   "metadata": {},
   "outputs": [],
   "source": [
    "[[11 22 33]\n",
    " [14 25 36]]"
   ]
  },
  {
   "cell_type": "markdown",
   "id": "83f1a6ad",
   "metadata": {},
   "source": [
    "\n",
    "更复杂的广播示例  \n",
    "以下是一个更复杂的广播示例，展示了如何处理多维数组：\n"
   ]
  },
  {
   "cell_type": "code",
   "execution_count": null,
   "id": "735eff2e",
   "metadata": {},
   "outputs": [],
   "source": [
    "import numpy as np\n",
    "\n",
    "# 创建两个形状不同的数组\n",
    "arr1 = np.array([[[1], [2], [3]], [[4], [5], [6]]])  # 形状为 (2, 3, 1)\n",
    "arr2 = np.array([[10, 20, 30]])  # 形状为 (1, 3)\n",
    "\n",
    "# 使用广播机制进行运算\n",
    "result = arr1 + arr2\n",
    "\n",
    "print(result)"
   ]
  },
  {
   "cell_type": "markdown",
   "id": "cee6fb0c",
   "metadata": {},
   "source": [
    "\n",
    "在这个例子中，`arr1`的形状为`(2, 3, 1)`，`arr2`的形状为`(1, 3)`。NumPy会先将`arr2`扩展为`(1, 3, 3)`，然后再扩展为`(2, 3, 3)`，使得它与`arr1`的形状兼容。最终，两个数组按元素逐个相加，得到结果数组：\n"
   ]
  },
  {
   "cell_type": "code",
   "execution_count": null,
   "id": "483f1630",
   "metadata": {},
   "outputs": [],
   "source": [
    "[[[11 21 31]\n",
    "  [12 22 32]\n",
    "  [13 23 33]]\n",
    "\n",
    " [[14 24 34]\n",
    "  [15 25 35]\n",
    "  [16 26 36]]]"
   ]
  },
  {
   "cell_type": "markdown",
   "id": "9e7081e3",
   "metadata": {},
   "source": [
    "\n",
    "总结  \n",
    "广播机制是NumPy中一个强大的特性，它允许对不同形状的数组进行高效的算术运算，而无需显式地复制数据。掌握广播机制的规则和应用场景，可以帮助你在数据处理和科学计算中编写更高效、简洁的代码。\n",
    "\n",
    "#### 面试题8 \n",
    "\n",
    "面试题目：NumPy中的`np.linalg.norm`函数是用来做什么的？请给出一个示例。\n",
    "\n",
    "面试题考点：\n",
    "\n",
    " *  理解线性代数中向量范数和矩阵范数的概念。\n",
    " *  掌握如何在NumPy中计算向量的长度或矩阵的大小。\n",
    " *  能够展示如何使用`np.linalg.norm`函数进行计算。\n",
    "\n",
    "答案或代码：  \n",
    "`np.linalg.norm`函数用于计算向量或矩阵的范数。默认情况下，它计算向量的欧几里得范数（即二范数），也就是向量的长度。\n"
   ]
  },
  {
   "cell_type": "code",
   "execution_count": null,
   "id": "45bf5b37",
   "metadata": {},
   "outputs": [],
   "source": [
    "import numpy as np\n",
    "\n",
    "# 创建一个向量\n",
    "vec = np.array([3, 4])\n",
    "\n",
    "# 计算向量的欧几里得范数（长度）\n",
    "norm = np.linalg.norm(vec)\n",
    "\n",
    "print(norm)  # 输出: 5.0"
   ]
  },
  {
   "cell_type": "markdown",
   "id": "86737a56",
   "metadata": {},
   "source": [
    "\n",
    "答案或代码解析：  \n",
    "在上述代码中，我们创建了一个向量`vec`，然后使用`np.linalg.norm`函数计算它的欧几里得范数，这等同于计算向量的长度。结果是5.0，这与直角三角形的斜边长度（根据勾股定理）一致。`np.linalg.norm`函数也可以计算矩阵的范数，或者使用`ord`参数指定其他类型的范数，如一范数、无穷范数等。\n",
    "\n",
    "#### 面试题9 \n",
    "\n",
    "面试题目：在NumPy中，如何使用`np.where`函数？\n",
    "\n",
    "面试题考点：\n",
    "\n",
    " *  理解`np.where`函数的功能和用途。\n",
    " *  掌握如何使用`np.where`进行条件选择和数组元素替换。\n",
    " *  能够展示如何根据条件对数组元素进行高效的替换。\n",
    "\n",
    "答案或代码：  \n",
    "`np.where`函数是一个条件函数，用于根据指定条件从两个数组中选择元素，或者找出满足条件的元素索引。\n"
   ]
  },
  {
   "cell_type": "code",
   "execution_count": null,
   "id": "e1a6de6a",
   "metadata": {},
   "outputs": [],
   "source": [
    "import numpy as np\n",
    "\n",
    "# 创建一个数组\n",
    "arr = np.array([1, 2, 3, 4, 5])\n",
    "\n",
    "# 使用np.where进行条件选择\n",
    "# 如果元素大于3，替换为10，否则为0\n",
    "result = np.where(arr > 3, 10, 0)\n",
    "\n",
    "print(result)  # 输出: [0 0 0 10 10]"
   ]
  },
  {
   "cell_type": "markdown",
   "id": "f06f0cc8",
   "metadata": {},
   "source": [
    "\n",
    "答案或代码解析：  \n",
    "在上述代码中，我们创建了一个数组`arr`，然后使用`np.where`函数进行条件选择。`np.where`的第一个参数是条件（这里是`arr > 3`），第二个参数是当条件为真时选择的值，第三个参数是条件为假时选择的值。因此，`result`数组中所有大于3的元素被替换为10，其他元素被替换为0。`np.where`也可以不带第二和第三个参数使用，此时它将返回满足条件的元素索引。\n",
    "\n",
    "#### 面试题10 \n",
    "\n",
    "面试题目：如何在NumPy中生成随机数数组？\n",
    "\n",
    "面试题考点：\n",
    "\n",
    " *  理解NumPy中随机数生成的方法。\n",
    " *  掌握如何使用NumPy的随机模块生成不同类型的随机数。\n",
    " *  能够展示如何创建随机数数组及其在数据分析和模拟中的应用。\n",
    "\n",
    "答案或代码：  \n",
    "NumPy的`random`模块提供了多种生成随机数的函数。可以生成均匀分布的随机数、正态分布的随机数等。\n"
   ]
  },
  {
   "cell_type": "code",
   "execution_count": null,
   "id": "e442c3d2",
   "metadata": {},
   "outputs": [],
   "source": [
    "import numpy as np\n",
    "\n",
    "# 生成一个随机数数组，元素服从[0, 1)均匀分布\n",
    "uniform_random_arr = np.random.rand(3, 2)\n",
    "\n",
    "# 生成一个随机整数数组，元素在[1, 10)范围内\n",
    "int_random_arr = np.random.randint(1, 10, size=(3, 2))\n",
    "\n",
    "# 生成一个随机数数组，元素服从标准正态分布\n",
    "normal_random_arr = np.random.randn(3, 2)\n",
    "\n",
    "print(uniform_random_arr)\n",
    "print(int_random_arr)\n",
    "print(normal_random_arr)"
   ]
  },
  {
   "cell_type": "markdown",
   "id": "8b527931",
   "metadata": {},
   "source": [
    "\n",
    "答案或代码解析：  \n",
    "在上述代码中，我们使用`np.random.rand`生成了一个形状为`(3, 2)`的数组，其元素服从`[0, 1)`的均匀分布。`np.random.randint`用于生成一个形状为`(3, 2)`的整数数组，其元素在`[1, 10)`范围内。`np.random.randn`生成了一个形状为`(3, 2)`的数组，其元素服从标准正态分布（均值为0，方差为1）。这些随机数生成函数在模拟、数据分析、机器学习等领域中非常有用，可以用于创建测试数据或初始化参数。\n",
    "\n",
    "#### 面试题11 \n",
    "\n",
    "面试题目：在NumPy中，如何使用`np.concatenate`函数进行数组的拼接操作？请给出一个示例。\n",
    "\n",
    "面试题考点：\n",
    "\n",
    " *  理解`np.concatenate`函数在数组拼接中的应用。\n",
    " *  掌握如何根据指定轴进行数组的拼接。\n",
    " *  能够展示如何使用`np.concatenate`拼接多个数组。\n",
    "\n",
    "答案或代码：  \n",
    "`np.concatenate`函数用于沿指定轴连接数组序列。它接受一个数组列表作为输入，并通过`axis`参数指定拼接的轴。\n"
   ]
  },
  {
   "cell_type": "code",
   "execution_count": null,
   "id": "aaf9e163",
   "metadata": {},
   "outputs": [],
   "source": [
    "import numpy as np\n",
    "\n",
    "# 创建两个数组\n",
    "arr1 = np.array([[1, 2], [3, 4]])\n",
    "arr2 = np.array([[5, 6], [7, 8]])\n",
    "\n",
    "# 沿着第一个轴（垂直方向）拼接数组\n",
    "concatenated_v = np.concatenate((arr1, arr2), axis=0)\n",
    "\n",
    "# 沿着第二个轴（水平方向）拼接数组\n",
    "concatenated_h = np.concatenate((arr1, arr2), axis=1)\n",
    "\n",
    "print(\"Vertically concatenated:\\n\", concatenated_v)\n",
    "print(\"Horizontally concatenated:\\n\", concatenated_h)"
   ]
  },
  {
   "cell_type": "markdown",
   "id": "12771d82",
   "metadata": {},
   "source": [
    "\n",
    "答案或代码解析：  \n",
    "在上述代码中，我们首先创建了两个形状相同的二维数组`arr1`和`arr2`。然后，使用`np.concatenate`函数进行数组拼接。当`axis=0`时，数组沿着第一个轴（垂直方向）进行拼接，结果是一个形状为`(4, 2)`的新数组。当`axis=1`时，数组沿着第二个轴（水平方向）进行拼接，结果是一个形状为`(2, 4)`的新数组。\n",
    "\n",
    "这个例子展示了`np.concatenate`在不同轴向上拼接数组的能力，这对于数据处理和数组操作来说是非常有用的功能。通过改变`axis`参数，可以灵活地控制拼接的方向。\n",
    "\n",
    "#### 面试题12 \n",
    "\n",
    "面试题目：如何在NumPy中计算两个数组的外积？\n",
    "\n",
    "面试题考点：\n",
    "\n",
    " *  理解外积（叉积）的数学概念。\n",
    " *  掌握如何在NumPy中使用`np.outer`进行外积计算。\n",
    " *  能够展示如何应用外积计算于向量和矩阵。\n",
    "\n",
    "答案或代码：  \n",
    "外积是线性代数中的一个概念，指的是两个向量的每个元素对应相乘的结果形成的矩阵。在NumPy中，可以使用`np.outer`函数计算两个向量的外积。\n"
   ]
  },
  {
   "cell_type": "code",
   "execution_count": null,
   "id": "df590af3",
   "metadata": {},
   "outputs": [],
   "source": [
    "import numpy as np\n",
    "\n",
    "# 创建两个向量\n",
    "vec1 = np.array([1, 2, 3])\n",
    "vec2 = np.array([4, 5, 6])\n",
    "\n",
    "# 计算外积\n",
    "outer_product = np.outer(vec1, vec2)\n",
    "\n",
    "print(outer_product)"
   ]
  },
  {
   "cell_type": "markdown",
   "id": "7c6fde94",
   "metadata": {},
   "source": [
    "\n",
    "答案或代码解析：  \n",
    "在上述代码中，`vec1`和`vec2`是两个一维数组（向量）。使用`np.outer`函数计算它们的外积，结果是一个二维数组（矩阵），其中的每个元素是由`vec1`的元素与`vec2`的元素相乘得到的。外积操作在物理、工程和数据分析中有广泛的应用，例如在计算矩阵的协方差时。\n",
    "\n",
    "#### 面试题13 \n",
    "\n",
    "面试题目：在NumPy中，如何找到数组中每一行的最大值？\n",
    "\n",
    "面试题考点：\n",
    "\n",
    " *  掌握如何处理多维数组。\n",
    " *  理解`np.amax`或`np.max`函数的使用。\n",
    " *  能够展示如何沿着指定轴计算最大值。\n",
    "\n",
    "答案或代码：  \n",
    "可以使用`np.amax`或`np.max`函数沿着数组的指定轴（axis）找到最大值。当处理二维数组时，设置`axis=1`可以计算每一行的最大值。\n"
   ]
  },
  {
   "cell_type": "code",
   "execution_count": null,
   "id": "0610b3fe",
   "metadata": {},
   "outputs": [],
   "source": [
    "import numpy as np\n",
    "\n",
    "# 创建一个二维数组\n",
    "arr = np.array([[1, 3, 5], [2, 4, 6]])\n",
    "\n",
    "# 计算每一行的最大值\n",
    "row_max = np.amax(arr, axis=1)\n",
    "\n",
    "print(row_max)"
   ]
  },
  {
   "cell_type": "markdown",
   "id": "3195a25b",
   "metadata": {},
   "source": [
    "\n",
    "答案或代码解析：  \n",
    "在上述代码中，`arr`是一个二维数组。使用`np.amax`函数（`np.max`也可以，两者是等价的）并设置`axis=1`，计算每一行的最大值。结果`row_max`是一个一维数组，包含了`arr`中每一行的最大值。这种按轴计算统计量的方法非常有用，尤其是在数据分析和机器学习领域。\n",
    "\n",
    "#### 面试题14 \n",
    "\n",
    "面试题目：解释NumPy中`np.argsort`函数的作用，并给出一个使用场景。\n",
    "\n",
    "面试题考点：\n",
    "\n",
    " *  理解`np.argsort`函数的功能。\n",
    " *  掌握如何使用`np.argsort`进行数组排序。\n",
    " *  能够展示如何利用排序索引进行数据重组或高级选择。\n",
    "\n",
    "答案或代码：  \n",
    "`np.argsort`函数返回的是数组元素从小到大排序后的索引值。这个函数在数据排序和间接排序中非常有用。\n"
   ]
  },
  {
   "cell_type": "code",
   "execution_count": null,
   "id": "85b93ff9",
   "metadata": {},
   "outputs": [],
   "source": [
    "import numpy as np\n",
    "\n",
    "# 创建一个一维数组\n",
    "arr = np.array([3, 1, 2])\n",
    "\n",
    "# 使用np.argsort获取排序后的索引\n",
    "sorted_indices = np.argsort(arr)\n",
    "\n",
    "print(sorted_indices)  # 输出排序后元素的索引\n",
    "print(arr[sorted_indices])  # 使用索引数组进行排序"
   ]
  },
  {
   "cell_type": "markdown",
   "id": "f3346fed",
   "metadata": {},
   "source": [
    "\n",
    "答案或代码解析：  \n",
    "在上述代码中，`arr`是一个一维数组。使用`np.argsort`函数可以得到一个索引数组`sorted_indices`，它表示如果要对`arr`进行排序，应该如何重新排列元素。然后，可以使用这个索引数组对`arr`进行排序，得到排序后的数组。`np.argsort`的一个常见使用场景是需要根据数组的排序结果来重组或选择数据，例如在获取排序后的排名、进行间接排序或根据排序结果选择数据子集时。\n",
    "\n",
    "#### 面试题15 \n",
    "\n",
    "面试题目：在NumPy中，如何实现数组的元素级乘法和矩阵乘法？请给出示例。\n",
    "\n",
    "面试题考点：\n",
    "\n",
    " *  理解元素级乘法与矩阵乘法的区别。\n",
    " *  掌握在NumPy中执行这两种乘法的方法。\n",
    " *  能够展示如何分别使用`*`操作符和`np.dot`或`@`操作符进行计算。\n",
    "\n",
    "答案或代码：  \n",
    "元素级乘法指的是两个数组相同位置的元素相乘，而矩阵乘法则遵循线性代数中的矩阵乘法规则。\n"
   ]
  },
  {
   "cell_type": "code",
   "execution_count": null,
   "id": "8c38dff1",
   "metadata": {},
   "outputs": [],
   "source": [
    "import numpy as np\n",
    "\n",
    "# 创建两个数组\n",
    "arr1 = np.array([[1, 2], [3, 4]])\n",
    "arr2 = np.array([[5, 6], [7, 8]])\n",
    "\n",
    "# 元素级乘法\n",
    "elementwise_product = arr1 * arr2\n",
    "\n",
    "# 矩阵乘法\n",
    "matrix_product = np.dot(arr1, arr2)\n",
    "# 或使用 @ 操作符\n",
    "matrix_product_at = arr1 @ arr2\n",
    "\n",
    "print(\"Element-wise Product:\\n\", elementwise_product)\n",
    "print(\"Matrix Product using np.dot:\\n\", matrix_product)\n",
    "print(\"Matrix Product using @:\\n\", matrix_product_at)"
   ]
  },
  {
   "cell_type": "markdown",
   "id": "f2ffc5c0",
   "metadata": {},
   "source": [
    "\n",
    "答案或代码解析：  \n",
    "在上述代码中，`arr1 * arr2`执行了元素级乘法，即数组中对应位置的元素相乘。`np.dot(arr1, arr2)`和`arr1 @ arr2`都执行了矩阵乘法，根据矩阵乘法的规则计算结果。元素级乘法用于应用相同的操作到数组的每个元素上，而矩阵乘法在处理线性变换、求解线性方程组等场景中非常有用。\n",
    "\n",
    "#### 面试题16 \n",
    "\n",
    "面试题目：如何在NumPy中创建一个对角矩阵？\n",
    "\n",
    "面试题考点：\n",
    "\n",
    " *  理解对角矩阵的概念。\n",
    " *  掌握NumPy中创建对角矩阵的方法。\n",
    " *  能够展示如何使用`np.diag`函数。\n",
    "\n",
    "答案或代码：  \n",
    "对角矩阵是主对角线之外的元素都为0的矩阵。在NumPy中，可以使用`np.diag`函数从一个给定的数组创建对角矩阵。\n"
   ]
  },
  {
   "cell_type": "code",
   "execution_count": null,
   "id": "24f405c9",
   "metadata": {},
   "outputs": [],
   "source": [
    "import numpy as np\n",
    "\n",
    "# 创建一个一维数组\n",
    "arr = np.array([1, 2, 3])\n",
    "\n",
    "# 使用np.diag从一维数组创建对角矩阵\n",
    "diagonal_matrix = np.diag(arr)\n",
    "\n",
    "print(diagonal_matrix)"
   ]
  },
  {
   "cell_type": "markdown",
   "id": "9f5ad441",
   "metadata": {},
   "source": [
    "\n",
    "答案或代码解析：  \n",
    "在上述代码中，`np.diag`函数接受一个一维数组`arr`作为输入，并返回一个以`arr`为对角线元素的对角矩阵。如果`np.diag`接受的是一个二维数组，它将返回该数组的主对角线元素。使用对角矩阵可以在数学和工程问题中简化很多计算，例如在求解线性方程组或进行矩阵分解时。\n",
    "\n",
    "#### 面试题17 \n",
    "\n",
    "面试题目：解释NumPy中的切片操作，并给出如何对多维数组进行切片的示例。\n",
    "\n",
    "面试题考点：\n",
    "\n",
    " *  理解NumPy数组切片的概念。\n",
    " *  掌握多维数组切片的语法和技巧。\n",
    " *  能够展示如何对多维数组进行切片以选取子数组或单个元素。\n",
    "\n",
    "答案或代码：  \n",
    "NumPy数组切片是指从现有数组中提取一部分元素形成新数组的过程。切片操作对于访问数组的某个特定区域非常有用。\n"
   ]
  },
  {
   "cell_type": "code",
   "execution_count": null,
   "id": "11922b7d",
   "metadata": {},
   "outputs": [],
   "source": [
    "import numpy as np\n",
    "\n",
    "# 创建一个二维数组\n",
    "arr = np.array([[1, 2, 3], [4, 5, 6], [7, 8, 9]])\n",
    "\n",
    "# 对二维数组进行切片，选取第1行到第2行，第0列到第1列的元素\n",
    "sub_array = arr[1:3, 0:2]\n",
    "\n",
    "print(sub_array)"
   ]
  },
  {
   "cell_type": "markdown",
   "id": "6234b057",
   "metadata": {},
   "source": [
    "\n",
    "答案或代码解析：  \n",
    "在上述代码中，`arr`是一个形状为`(3, 3)`的二维数组。通过切片操作`arr[1:3, 0:2]`，我们选取了数组中第1行到第2行（不包含第3行），以及第0列到第1列（不包含第2列）的元素，形成了一个新的二维子数组。切片操作在数据预处理、特征提取等场景中非常有用，可以方便地访问和操作数组的特定部分。\n",
    "\n",
    "#### 面试题18 \n",
    "\n",
    "面试题目：在NumPy中，如何计算数组的累积和？\n",
    "\n",
    "面试题考点：\n",
    "\n",
    " *  理解累积和的概念。\n",
    " *  掌握NumPy中计算累积和的函数。\n",
    " *  能够展示如何使用`np.cumsum`进行计算。\n",
    "\n",
    "答案或代码：  \n",
    "可以使用`np.cumsum`函数计算数组元素的累积和，即每个元素都是它之前所有元素的总和。\n"
   ]
  },
  {
   "cell_type": "code",
   "execution_count": null,
   "id": "46380925",
   "metadata": {},
   "outputs": [],
   "source": [
    "import numpy as np\n",
    "\n",
    "# 创建一个一维数组\n",
    "arr = np.array([1, 2, 3, 4])\n",
    "\n",
    "# 计算累积和\n",
    "cumulative_sum = np.cumsum(arr)\n",
    "\n",
    "print(cumulative_sum)  # 输出: [ 1  3  6 10]"
   ]
  },
  {
   "cell_type": "markdown",
   "id": "0c813c79",
   "metadata": {},
   "source": [
    "\n",
    "答案或代码解析：  \n",
    "在上述代码中，`np.cumsum`函数对一维数组`arr`进行操作，返回一个新的数组`cumulative_sum`，其中的每个元素是从数组第一个元素到当前元素的累积和。累积和在数据分析中常用于计算运行总和或构建累积分布。\n",
    "\n",
    "#### 面试题19 \n",
    "\n",
    "面试题目：如何在NumPy中进行数组的条件筛选？\n",
    "\n",
    "面试题考点：\n",
    "\n",
    " *  理解条件筛选的概念。\n",
    " *  掌握NumPy中进行条件筛选的方法。\n",
    " *  能够展示如何结合布尔索引进行数组的条件筛选。\n",
    "\n",
    "答案或代码：  \n",
    "可以使用布尔索引进行条件筛选，即根据条件表达式生成布尔数组，然后用该布尔数组作为索引来筛选原数组中满足条件的元素。\n"
   ]
  },
  {
   "cell_type": "code",
   "execution_count": null,
   "id": "e7da5656",
   "metadata": {},
   "outputs": [],
   "source": [
    "import numpy as np\n",
    "\n",
    "# 创建一个一维数组\n",
    "arr = np.array([1, -2, 3, -4, 5])\n",
    "\n",
    "# 使用布尔索引进行条件筛选，选取正数\n",
    "positive_numbers = arr[arr > 0]\n",
    "\n",
    "print(positive_numbers)  # 输出: [1 3 5]"
   ]
  },
  {
   "cell_type": "markdown",
   "id": "9fb617fb",
   "metadata": {},
   "source": [
    "\n",
    "答案或代码解析：  \n",
    "在上述代码中，条件`arr > 0`生成了一个布尔数组，其中每个位置的值表示`arr`中对应位置的元素是否大于0。然后，这个布尔数组用于从`arr`中筛选出所有正数。这种条件筛选方法在数据清洗和预处理中非常有用，可以快速提取符合特定条件的数据。\n",
    "\n",
    "#### 面试题20 \n",
    "\n",
    "面试题目：在NumPy中，如何使用`np.tile`函数对数组进行重复？\n",
    "\n",
    "面试题考点：\n",
    "\n",
    " *  理解数组重复的概念。\n",
    " *  掌握如何使用`np.tile`对数组进行复制和拼接。\n",
    " *  能够展示如何通过`np.tile`实现数组的重复和扩展。\n",
    "\n",
    "答案或代码：  \n",
    "`np.tile`函数可以将一个数组沿指定轴重复多次，从而创建一个更大的数组。\n"
   ]
  },
  {
   "cell_type": "code",
   "execution_count": null,
   "id": "8251671d",
   "metadata": {},
   "outputs": [],
   "source": [
    "import numpy as np\n",
    "\n",
    "# 创建一个一维数组\n",
    "arr = np.array([1, 2, 3])\n",
    "\n",
    "# 使用np.tile重复数组\n",
    "tiled_array = np.tile(arr, 3)\n",
    "\n",
    "print(tiled_array)  # 输出: [1 2 3 1 2 3 1 2 3]"
   ]
  },
  {
   "cell_type": "markdown",
   "id": "31f238bd",
   "metadata": {},
   "source": [
    "\n",
    "答案或代码解析：  \n",
    "在上述代码中，`np.tile`函数接受一个数组`arr`和重复次数3作为参数，然后沿着数组的第一个轴（对于一维数组而言，即沿着数组的长度方向）重复`arr`三次。结果是一个新的数组`tiled_array`，它是`arr`的三个副本连接而成的。`np.tile`在进行数组构造和模式生成时非常有用，例如在创建测试数据或构建特定的数组结构时。"
   ]
  }
 ],
 "metadata": {},
 "nbformat": 4,
 "nbformat_minor": 5
}
